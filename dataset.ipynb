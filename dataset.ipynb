{
 "cells": [
  {
   "cell_type": "code",
   "execution_count": 9,
   "metadata": {},
   "outputs": [
    {
     "name": "stdout",
     "output_type": "stream",
     "text": [
      "Les données de apple ont été sauvegardées dans apple_data.csv.\n",
      "Les données de microsoft ont été sauvegardées dans microsoft_data.csv.\n",
      "Les données de google ont été sauvegardées dans google_data.csv.\n",
      "Les données de amazon ont été sauvegardées dans amazon_data.csv.\n",
      "Les données de meta ont été sauvegardées dans meta_data.csv.\n"
     ]
    }
   ],
   "source": [
    "import requests\n",
    "import pandas as pd\n",
    "import os\n",
    "\n",
    "# URL et clé API\n",
    "url = \"https://www.alphavantage.co/query\"\n",
    "api_key = \"2SHQ8JJWYLPHNFQM\"\n",
    "\n",
    "# Liste des symboles\n",
    "symbols = {\n",
    "    \"apple\": {\"function\": \"TIME_SERIES_MONTHLY\", \"symbol\": \"AAPL\"},\n",
    "    \"microsoft\": {\"function\": \"TIME_SERIES_MONTHLY\", \"symbol\": \"MSFT\"},\n",
    "    \"google\": {\"function\": \"TIME_SERIES_MONTHLY\", \"symbol\": \"GOOGL\"},\n",
    "    \"amazon\": {\"function\": \"TIME_SERIES_MONTHLY\", \"symbol\": \"AMZN\"},\n",
    "    \"meta\": {\"function\": \"TIME_SERIES_MONTHLY\", \"symbol\": \"META\"}\n",
    "}\n",
    "\n",
    "# Fonction pour télécharger les données\n",
    "def download_data(asset_name, params):\n",
    "    params[\"apikey\"] = api_key\n",
    "    params[\"datatype\"] = \"csv\"\n",
    "    response = requests.get(url, params=params)\n",
    "\n",
    "    if response.status_code == 200:\n",
    "        filename = f\"{asset_name}_data.csv\"\n",
    "        with open(filename, \"wb\") as file:\n",
    "            file.write(response.content)\n",
    "        print(f\"Les données de {asset_name} ont été sauvegardées dans {filename}.\")\n",
    "    else:\n",
    "        print(f\"Erreur pour {asset_name}: {response.status_code}, {response.text}\")\n",
    "\n",
    "# Télécharger les données historiques\n",
    "for asset, params in symbols.items():\n",
    "    download_data(asset, params)\n"
   ]
  },
  {
   "cell_type": "code",
   "execution_count": 10,
   "metadata": {},
   "outputs": [
    {
     "name": "stdout",
     "output_type": "stream",
     "text": [
      "Requirement already satisfied: yfinance in /opt/conda/lib/python3.12/site-packages (0.2.51)\n",
      "Requirement already satisfied: pandas>=1.3.0 in /opt/conda/lib/python3.12/site-packages (from yfinance) (2.2.3)\n",
      "Requirement already satisfied: numpy>=1.16.5 in /opt/conda/lib/python3.12/site-packages (from yfinance) (2.2.0)\n",
      "Requirement already satisfied: requests>=2.31 in /opt/conda/lib/python3.12/site-packages (from yfinance) (2.32.3)\n",
      "Requirement already satisfied: multitasking>=0.0.7 in /opt/conda/lib/python3.12/site-packages (from yfinance) (0.0.11)\n",
      "Requirement already satisfied: lxml>=4.9.1 in /opt/conda/lib/python3.12/site-packages (from yfinance) (5.3.0)\n",
      "Requirement already satisfied: platformdirs>=2.0.0 in /opt/conda/lib/python3.12/site-packages (from yfinance) (4.3.6)\n",
      "Requirement already satisfied: pytz>=2022.5 in /opt/conda/lib/python3.12/site-packages (from yfinance) (2024.1)\n",
      "Requirement already satisfied: frozendict>=2.3.4 in /opt/conda/lib/python3.12/site-packages (from yfinance) (2.4.6)\n",
      "Requirement already satisfied: peewee>=3.16.2 in /opt/conda/lib/python3.12/site-packages (from yfinance) (3.17.8)\n",
      "Requirement already satisfied: beautifulsoup4>=4.11.1 in /opt/conda/lib/python3.12/site-packages (from yfinance) (4.12.3)\n",
      "Requirement already satisfied: html5lib>=1.1 in /opt/conda/lib/python3.12/site-packages (from yfinance) (1.1)\n",
      "Requirement already satisfied: soupsieve>1.2 in /opt/conda/lib/python3.12/site-packages (from beautifulsoup4>=4.11.1->yfinance) (2.5)\n",
      "Requirement already satisfied: six>=1.9 in /opt/conda/lib/python3.12/site-packages (from html5lib>=1.1->yfinance) (1.17.0)\n",
      "Requirement already satisfied: webencodings in /opt/conda/lib/python3.12/site-packages (from html5lib>=1.1->yfinance) (0.5.1)\n",
      "Requirement already satisfied: python-dateutil>=2.8.2 in /opt/conda/lib/python3.12/site-packages (from pandas>=1.3.0->yfinance) (2.9.0.post0)\n",
      "Requirement already satisfied: tzdata>=2022.7 in /opt/conda/lib/python3.12/site-packages (from pandas>=1.3.0->yfinance) (2024.2)\n",
      "Requirement already satisfied: charset_normalizer<4,>=2 in /opt/conda/lib/python3.12/site-packages (from requests>=2.31->yfinance) (3.4.0)\n",
      "Requirement already satisfied: idna<4,>=2.5 in /opt/conda/lib/python3.12/site-packages (from requests>=2.31->yfinance) (3.10)\n",
      "Requirement already satisfied: urllib3<3,>=1.21.1 in /opt/conda/lib/python3.12/site-packages (from requests>=2.31->yfinance) (2.2.3)\n",
      "Requirement already satisfied: certifi>=2017.4.17 in /opt/conda/lib/python3.12/site-packages (from requests>=2.31->yfinance) (2024.8.30)\n",
      "Note: you may need to restart the kernel to use updated packages.\n"
     ]
    }
   ],
   "source": [
    "pip install yfinance"
   ]
  },
  {
   "cell_type": "code",
   "execution_count": 11,
   "metadata": {},
   "outputs": [
    {
     "name": "stderr",
     "output_type": "stream",
     "text": [
      "[*********************100%***********************]  1 of 1 completed"
     ]
    },
    {
     "name": "stdout",
     "output_type": "stream",
     "text": [
      "Price            Close        High         Low        Open Volume\n",
      "Ticker            GC=F        GC=F        GC=F        GC=F   GC=F\n",
      "Date                                                             \n",
      "2000-09-01  273.600006  278.399994  269.000000  277.000000   4291\n",
      "2000-11-01  270.100006  270.200012  263.899994  263.899994  32465\n",
      "2000-12-01  272.000000  276.000000  268.000000  269.700012   1664\n",
      "2001-01-01  265.600006  268.399994  262.799988  268.399994  17811\n",
      "2001-02-01  266.799988  268.899994  255.000000  266.299988   1066\n",
      "Les données historiques de l'or ont été sauvegardées dans 'gold_historical_data_2000_2024.csv'.\n"
     ]
    },
    {
     "name": "stderr",
     "output_type": "stream",
     "text": [
      "\n"
     ]
    }
   ],
   "source": [
    "import yfinance as yf\n",
    "import pandas as pd\n",
    "\n",
    "# Télécharger les données historiques de l'or (Gold Futures, GC=F)\n",
    "gold = yf.download(\"GC=F\", start=\"2000-01-01\", end=\"2024-01-01\", interval=\"1mo\")\n",
    "\n",
    "# Afficher les premières lignes\n",
    "print(gold.head())\n",
    "\n",
    "# Sauvegarder dans un fichier CSV\n",
    "gold.to_csv(\"gold_historical_data_2000_2024.csv\")\n",
    "print(\"Les données historiques de l'or ont été sauvegardées dans 'gold_historical_data_2000_2024.csv'.\")\n"
   ]
  },
  {
   "cell_type": "code",
   "execution_count": 17,
   "metadata": {},
   "outputs": [
    {
     "name": "stderr",
     "output_type": "stream",
     "text": [
      "[*********************100%***********************]  1 of 1 completed\n",
      "[*********************100%***********************]  1 of 1 completed"
     ]
    },
    {
     "name": "stdout",
     "output_type": "stream",
     "text": [
      "Téléchargement des données pour Gold (GC=F)...\n",
      "Données sauvegardées dans gold_historical_data.csv.\n",
      "Price             Close         High          Low         Open  Volume\n",
      "Ticker             GC=F         GC=F         GC=F         GC=F    GC=F\n",
      "Date                                                                  \n",
      "2010-01-01  1083.000000  1161.199951  1073.199951  1117.699951  320664\n",
      "2010-02-01  1118.300049  1127.400024  1045.199951  1081.000000   18209\n",
      "2010-03-01  1113.300049  1145.000000  1085.500000  1119.300049  222583\n",
      "2010-04-01  1180.099976  1181.300049  1111.300049  1125.099976   10917\n",
      "2010-05-01  1212.199951  1246.500000  1159.199951  1178.599976  361661\n",
      "Téléchargement des données pour Bitcoin (BTC-USD)...\n"
     ]
    },
    {
     "name": "stderr",
     "output_type": "stream",
     "text": [
      "\n",
      "[*********************100%***********************]  1 of 1 completed\n"
     ]
    },
    {
     "name": "stdout",
     "output_type": "stream",
     "text": [
      "Données sauvegardées dans bitcoin_historical_data.csv.\n",
      "Price            Close        High         Low        Open      Volume\n",
      "Ticker         BTC-USD     BTC-USD     BTC-USD     BTC-USD     BTC-USD\n",
      "Date                                                                  \n",
      "2014-10-01  338.321014  411.697998  289.295990  387.427002   902994450\n",
      "2014-11-01  378.046997  457.092987  320.626007  338.649994   659733360\n",
      "2014-12-01  320.192993  384.037994  304.231995  378.248993   553102310\n",
      "2015-01-01  217.464005  320.434998  171.509995  320.434998  1098811912\n",
      "2015-02-01  254.263000  265.610992  212.014999  216.867004   711518700\n",
      "Téléchargement des données pour Ethereum (ETH-USD)...\n",
      "Données sauvegardées dans ethereum_historical_data.csv.\n",
      "Price             Close         High         Low         Open        Volume\n",
      "Ticker          ETH-USD      ETH-USD     ETH-USD      ETH-USD       ETH-USD\n",
      "Date                                                                       \n",
      "2017-12-01   756.732971   881.943970  414.411011   445.209015   79862276544\n",
      "2018-01-01  1118.310059  1432.880005  742.004028   755.757019  163610220288\n",
      "2018-02-01   855.198975  1161.349976  574.419006  1119.369995   83393441152\n",
      "2018-03-01   396.457001   880.302002  368.632996   856.012024   53716179584\n",
      "2018-04-01   669.924011   708.875000  363.804993   397.253998   60669918656\n",
      "Téléchargement des données pour S&P 500 (^GSPC)...\n"
     ]
    },
    {
     "name": "stderr",
     "output_type": "stream",
     "text": [
      "[*********************100%***********************]  1 of 1 completed"
     ]
    },
    {
     "name": "stdout",
     "output_type": "stream",
     "text": [
      "Données sauvegardées dans s&p 500_historical_data.csv.\n",
      "Price             Close         High          Low         Open        Volume\n",
      "Ticker            ^GSPC        ^GSPC        ^GSPC        ^GSPC         ^GSPC\n",
      "Date                                                                        \n",
      "2010-01-01  1073.869995  1150.449951  1071.589966  1116.560059   90947580000\n",
      "2010-02-01  1104.489990  1112.420044  1044.500000  1073.890015   84561340000\n",
      "2010-03-01  1169.430054  1180.689941  1105.359985  1105.359985  103683550000\n",
      "2010-04-01  1186.689941  1219.800049  1170.689941  1171.229980  116741910000\n",
      "2010-05-01  1089.410034  1205.130005  1040.780029  1188.579956  127662780000\n"
     ]
    },
    {
     "name": "stderr",
     "output_type": "stream",
     "text": [
      "\n"
     ]
    }
   ],
   "source": [
    "import yfinance as yf\n",
    "import pandas as pd\n",
    "\n",
    "# Liste des tickers\n",
    "assets = {\n",
    "    \"Gold\": \"GC=F\",        # Gold Futures\n",
    "    \"Bitcoin\": \"BTC-USD\",  # Bitcoin en USD\n",
    "    \"Ethereum\": \"ETH-USD\", # Ethereum en USD\n",
    "    \"S&P 500\": \"^GSPC\"     # S&P 500 Index\n",
    "}\n",
    "\n",
    "# Définir la plage de dates\n",
    "start_date = \"2010-01-01\"\n",
    "end_date = \"2024-01-01\"\n",
    "\n",
    "# Télécharger les données pour chaque actif\n",
    "for asset_name, ticker in assets.items():\n",
    "    print(f\"Téléchargement des données pour {asset_name} ({ticker})...\")\n",
    "    \n",
    "    # Télécharger les données avec yfinance\n",
    "    data = yf.download(ticker, start=start_date, end=end_date, interval=\"1mo\")\n",
    "    \n",
    "    # Sauvegarder dans un fichier CSV\n",
    "    filename = f\"{asset_name.lower()}_historical_data.csv\"\n",
    "    data.to_csv(filename)\n",
    "    print(f\"Données sauvegardées dans {filename}.\")\n",
    "\n",
    "    # Afficher les premières lignes\n",
    "    print(data.head())\n"
   ]
  }
 ],
 "metadata": {
  "kernelspec": {
   "display_name": "base",
   "language": "python",
   "name": "python3"
  },
  "language_info": {
   "codemirror_mode": {
    "name": "ipython",
    "version": 3
   },
   "file_extension": ".py",
   "mimetype": "text/x-python",
   "name": "python",
   "nbconvert_exporter": "python",
   "pygments_lexer": "ipython3",
   "version": "3.12.7"
  }
 },
 "nbformat": 4,
 "nbformat_minor": 2
}
