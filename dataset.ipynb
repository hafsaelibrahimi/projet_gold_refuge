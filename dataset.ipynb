{
 "cells": [
  {
   "cell_type": "code",
   "execution_count": 106,
   "metadata": {},
   "outputs": [
    {
     "name": "stdout",
     "output_type": "stream",
     "text": [
      "Requirement already satisfied: yfinance in /opt/conda/lib/python3.12/site-packages (0.2.51)\n",
      "Requirement already satisfied: pandas>=1.3.0 in /opt/conda/lib/python3.12/site-packages (from yfinance) (2.2.3)\n",
      "Requirement already satisfied: numpy>=1.16.5 in /opt/conda/lib/python3.12/site-packages (from yfinance) (2.2.1)\n",
      "Requirement already satisfied: requests>=2.31 in /opt/conda/lib/python3.12/site-packages (from yfinance) (2.32.3)\n",
      "Requirement already satisfied: multitasking>=0.0.7 in /opt/conda/lib/python3.12/site-packages (from yfinance) (0.0.11)\n",
      "Requirement already satisfied: lxml>=4.9.1 in /opt/conda/lib/python3.12/site-packages (from yfinance) (5.3.0)\n",
      "Requirement already satisfied: platformdirs>=2.0.0 in /opt/conda/lib/python3.12/site-packages (from yfinance) (4.3.6)\n",
      "Requirement already satisfied: pytz>=2022.5 in /opt/conda/lib/python3.12/site-packages (from yfinance) (2024.1)\n",
      "Requirement already satisfied: frozendict>=2.3.4 in /opt/conda/lib/python3.12/site-packages (from yfinance) (2.4.6)\n",
      "Requirement already satisfied: peewee>=3.16.2 in /opt/conda/lib/python3.12/site-packages (from yfinance) (3.17.8)\n",
      "Requirement already satisfied: beautifulsoup4>=4.11.1 in /opt/conda/lib/python3.12/site-packages (from yfinance) (4.12.3)\n",
      "Requirement already satisfied: html5lib>=1.1 in /opt/conda/lib/python3.12/site-packages (from yfinance) (1.1)\n",
      "Requirement already satisfied: soupsieve>1.2 in /opt/conda/lib/python3.12/site-packages (from beautifulsoup4>=4.11.1->yfinance) (2.5)\n",
      "Requirement already satisfied: six>=1.9 in /opt/conda/lib/python3.12/site-packages (from html5lib>=1.1->yfinance) (1.17.0)\n",
      "Requirement already satisfied: webencodings in /opt/conda/lib/python3.12/site-packages (from html5lib>=1.1->yfinance) (0.5.1)\n",
      "Requirement already satisfied: python-dateutil>=2.8.2 in /opt/conda/lib/python3.12/site-packages (from pandas>=1.3.0->yfinance) (2.9.0.post0)\n",
      "Requirement already satisfied: tzdata>=2022.7 in /opt/conda/lib/python3.12/site-packages (from pandas>=1.3.0->yfinance) (2024.2)\n",
      "Requirement already satisfied: charset_normalizer<4,>=2 in /opt/conda/lib/python3.12/site-packages (from requests>=2.31->yfinance) (3.4.0)\n",
      "Requirement already satisfied: idna<4,>=2.5 in /opt/conda/lib/python3.12/site-packages (from requests>=2.31->yfinance) (3.10)\n",
      "Requirement already satisfied: urllib3<3,>=1.21.1 in /opt/conda/lib/python3.12/site-packages (from requests>=2.31->yfinance) (2.2.3)\n",
      "Requirement already satisfied: certifi>=2017.4.17 in /opt/conda/lib/python3.12/site-packages (from requests>=2.31->yfinance) (2024.12.14)\n",
      "Requirement already satisfied: arch in /opt/conda/lib/python3.12/site-packages (7.2.0)\n",
      "Requirement already satisfied: numpy>=1.22.3 in /opt/conda/lib/python3.12/site-packages (from arch) (2.2.1)\n",
      "Requirement already satisfied: scipy>=1.8 in /opt/conda/lib/python3.12/site-packages (from arch) (1.14.1)\n",
      "Requirement already satisfied: pandas>=1.4 in /opt/conda/lib/python3.12/site-packages (from arch) (2.2.3)\n",
      "Requirement already satisfied: statsmodels>=0.12 in /opt/conda/lib/python3.12/site-packages (from arch) (0.14.4)\n",
      "Requirement already satisfied: python-dateutil>=2.8.2 in /opt/conda/lib/python3.12/site-packages (from pandas>=1.4->arch) (2.9.0.post0)\n",
      "Requirement already satisfied: pytz>=2020.1 in /opt/conda/lib/python3.12/site-packages (from pandas>=1.4->arch) (2024.1)\n",
      "Requirement already satisfied: tzdata>=2022.7 in /opt/conda/lib/python3.12/site-packages (from pandas>=1.4->arch) (2024.2)\n",
      "Requirement already satisfied: patsy>=0.5.6 in /opt/conda/lib/python3.12/site-packages (from statsmodels>=0.12->arch) (1.0.1)\n",
      "Requirement already satisfied: packaging>=21.3 in /opt/conda/lib/python3.12/site-packages (from statsmodels>=0.12->arch) (24.2)\n",
      "Requirement already satisfied: six>=1.5 in /opt/conda/lib/python3.12/site-packages (from python-dateutil>=2.8.2->pandas>=1.4->arch) (1.17.0)\n"
     ]
    }
   ],
   "source": [
    "!pip install yfinance\n",
    "!pip install arch\n"
   ]
  },
  {
   "cell_type": "code",
   "execution_count": 107,
   "metadata": {},
   "outputs": [],
   "source": [
    "import requests\n",
    "import pandas as pd\n",
    "import os\n",
    "import yfinance as yf\n",
    "import numpy as np\n",
    "from arch import arch_model\n",
    "from scipy.optimize import minimize\n",
    "from statsmodels.api import OLS, add_constant\n",
    "import matplotlib.pyplot as plt\n",
    "import seaborn as sns\n"
   ]
  },
  {
   "cell_type": "markdown",
   "metadata": {},
   "source": [
    "# Partie I - Collecte et traitement des données"
   ]
  },
  {
   "cell_type": "markdown",
   "metadata": {},
   "source": [
    "1. Téléchargement des données"
   ]
  },
  {
   "cell_type": "markdown",
   "metadata": {},
   "source": [
    "*1.1. Téléchargement des données à l'aide de l'API*"
   ]
  },
  {
   "cell_type": "markdown",
   "metadata": {},
   "source": [
    "Nous allons utiliser une API générée à partir d'Alpha Vantage pour télécharger des données boursières historiques mensuelles de grandes entreprises technologiques : Apple, Microsoft, Google, Amazon et Meta. Ces entreprises ont été choisies pour leur rôle de leaders dans l'industrie technologique, leur influence significative sur les indices boursiers mondiaux, et leur pertinence en tant qu'indicateurs de la santé économique du secteur. Les données téléchargées couvrent un intervalle de temps d’un mois, permettant une analyse des tendances globales tout en éliminant le bruit des variations quotidiennes. Ce choix d'intervalle est particulièrement adapté aux analyses à moyen ou long terme.\n"
   ]
  },
  {
   "cell_type": "markdown",
   "metadata": {},
   "source": [
    "Pour optimiser le processus de téléchargement des données, nous avons créé une fonction appelée `download_data`. Cette fonction prend en entrée le nom de l'entreprise (`company_name`) et les paramètres nécessaires à l'API (`params`). Elle centralise la logique de téléchargement et de sauvegarde des données pour éviter de réécrire le même code à chaque requête pour les différentes entreprises.\n"
   ]
  },
  {
   "cell_type": "code",
   "execution_count": 108,
   "metadata": {},
   "outputs": [
    {
     "name": "stdout",
     "output_type": "stream",
     "text": [
      "Les données de apple ont été sauvegardées dans /home/onyxia/work/projet_gold_refuge/all_data_used/apple_data.csv.\n",
      "Les données de microsoft ont été sauvegardées dans /home/onyxia/work/projet_gold_refuge/all_data_used/microsoft_data.csv.\n",
      "Les données de google ont été sauvegardées dans /home/onyxia/work/projet_gold_refuge/all_data_used/google_data.csv.\n",
      "Les données de amazon ont été sauvegardées dans /home/onyxia/work/projet_gold_refuge/all_data_used/amazon_data.csv.\n",
      "Les données de meta ont été sauvegardées dans /home/onyxia/work/projet_gold_refuge/all_data_used/meta_data.csv.\n"
     ]
    }
   ],
   "source": [
    "# URL et clé API\n",
    "url = \"https://www.alphavantage.co/query\"\n",
    "api_key = \"O0S7MV4XE2PDKBDF\"\n",
    "\n",
    "# Liste des symboles\n",
    "symbols = {\n",
    "    \"apple\": {\"function\": \"TIME_SERIES_MONTHLY\", \"symbol\": \"AAPL\"},\n",
    "    \"microsoft\": {\"function\": \"TIME_SERIES_MONTHLY\", \"symbol\": \"MSFT\"},\n",
    "    \"google\": {\"function\": \"TIME_SERIES_MONTHLY\", \"symbol\": \"GOOGL\"},\n",
    "    \"amazon\": {\"function\": \"TIME_SERIES_MONTHLY\", \"symbol\": \"AMZN\"},\n",
    "    \"meta\": {\"function\": \"TIME_SERIES_MONTHLY\", \"symbol\": \"META\"}\n",
    "}\n",
    "\n",
    "def download_data(company_name, params):\n",
    "    params[\"apikey\"] = api_key\n",
    "    params[\"datatype\"] = \"csv\"\n",
    "    response = requests.get(url, params=params)\n",
    "\n",
    "    if response.status_code == 200:\n",
    "        filename = os.path.join(\"/home/onyxia/work/projet_gold_refuge/all_data_used\", f\"{company_name}_data.csv\")\n",
    "        with open(filename, \"wb\") as file:\n",
    "            file.write(response.content)\n",
    "        print(f\"Les données de {company_name} ont été sauvegardées dans {filename}.\")\n",
    "    else:\n",
    "        print(f\"Erreur pour {company_name}: {response.status_code}, {response.text}\")\n",
    "\n",
    "# Télécharger les données historiques\n",
    "for company, params in symbols.items():\n",
    "    download_data(company, params)\n"
   ]
  },
  {
   "cell_type": "markdown",
   "metadata": {},
   "source": [
    "*2.2. Téléchargement des données sur Yahoo Finance*"
   ]
  },
  {
   "cell_type": "markdown",
   "metadata": {},
   "source": [
    "Dans cette section, nous utilisons la bibliothèque `yfinance` pour télécharger des données historiques mensuelles des actifs financiers, dont on a besoin:  l'Or, le Bitcoin, l'Ethereum et l'indice S&P 500, sur une plage temporelle allant de 2000 à 2024. Le S&P 500 a été choisi comme indicateur de la performance des grandes entreprises américaines.\n"
   ]
  },
  {
   "cell_type": "code",
   "execution_count": 109,
   "metadata": {},
   "outputs": [
    {
     "name": "stderr",
     "output_type": "stream",
     "text": [
      "[*********************100%***********************]  1 of 1 completed"
     ]
    },
    {
     "name": "stderr",
     "output_type": "stream",
     "text": [
      "\n",
      "[*********************100%***********************]  1 of 1 completed\n",
      "[*********************100%***********************]  1 of 1 completed\n",
      "[*********************100%***********************]  1 of 1 completed"
     ]
    },
    {
     "name": "stdout",
     "output_type": "stream",
     "text": [
      "Téléchargement des données pour Gold (GC=F)...\n",
      "Téléchargement des données pour Bitcoin (BTC-USD)...\n",
      "Téléchargement des données pour Ethereum (ETH-USD)...\n",
      "Téléchargement des données pour S&P 500 (^GSPC)...\n"
     ]
    },
    {
     "name": "stderr",
     "output_type": "stream",
     "text": [
      "\n"
     ]
    }
   ],
   "source": [
    "assets = {\n",
    "    \"Gold\": \"GC=F\",        # Gold Futures\n",
    "    \"Bitcoin\": \"BTC-USD\",  # Bitcoin en USD\n",
    "    \"Ethereum\": \"ETH-USD\", # Ethereum en USD\n",
    "    \"S&P 500\": \"^GSPC\"     # S&P 500 Index\n",
    "}\n",
    "\n",
    "# La plage de dates\n",
    "start_date = \"2000-01-01\"\n",
    "end_date = \"2024-12-01\"\n",
    "\n",
    "# Télécharger les données pour chaque actif\n",
    "for asset_name, ticker in assets.items():\n",
    "    print(f\"Téléchargement des données pour {asset_name} ({ticker})...\")\n",
    "    \n",
    "    # Télécharger les données avec yfinance\n",
    "    data = yf.download(ticker, start=start_date, end=end_date, interval=\"1mo\")\n",
    "    \n",
    "    # Sauvegarder dans un fichier CSV\n",
    "    filename = os.path.join(\"/home/onyxia/work/projet_gold_refuge/all_data_used\", f\"{asset_name.lower()}_historical_data.csv\")\n",
    "    data.to_csv(filename)"
   ]
  },
  {
   "cell_type": "markdown",
   "metadata": {},
   "source": [
    "3. Création et nettoyage de la base de données "
   ]
  },
  {
   "cell_type": "markdown",
   "metadata": {},
   "source": [
    "*3.1. Création et réorganisation de la base de données à l'aide des fichiers téléchargés* "
   ]
  },
  {
   "cell_type": "markdown",
   "metadata": {},
   "source": [
    "Dans cette section, nous créons la base de données avec laquelle nous allons travailler. Nous allons commencer avec les données des actions des entreprises. Un DataFrame principal est initialisé avec une plage de dates mensuelles allant de janvier 2000 à décembre 2024. Chaque fichier CSV des entreprises est ensuite chargé individuellement, et son contenu est transformé : le nom de l'entreprise est extrait du nom du fichier, la colonne de timestamp est convertie en format datetime, et une colonne représentant les mois est ajoutée. Les données brutes téléchargées précédemment contiennent trois valeurs principales pour les actions : \n",
    "- **Open** : Le prix de l'action à l'ouverture du marché.\n",
    "- **High** : Le prix le plus élevé atteint par l'action.\n",
    "- **Low** : Le prix le plus bas atteint par l'action.\n",
    "\n",
    "Pour estimer le prix moyen d'une action sur un mois, nous avons choisi de calculer la moyenne entre les valeurs `High` et `Low`. Ce choix permet de refléter une approximation réaliste des fluctuations du prix sans être biaisé par les pics ou creux extrêmes. Le volume d'actions échangées est conservé. Les colonnes traitées sont renommées pour inclure le nom de l'entreprise, ce qui permet une distinction claire lors de la fusion des données. \n",
    "\n",
    "Il est important de noter que les données téléchargées pour les actions des entreprises et les actifs commencent à des dates différentes. Cependant, notre analyse couvre une période fixe de 2000 à 2024. Les données manquantes dans cette plage de dates sont marquées comme `NaN`, et ces valeurs seront traitées ultérieurement dans la partie dédiée au nettoyage des données. Par exemple, l'entreprise META, créée en 2004, est considérée ici comme ayant été créée dès 2000, avec des valeurs manquantes (`NaN`) pour la période 2000-2004, qui seront également gérées dans la phase de nettoyage.\n"
   ]
  },
  {
   "cell_type": "code",
   "execution_count": 110,
   "metadata": {},
   "outputs": [
    {
     "name": "stderr",
     "output_type": "stream",
     "text": [
      "/tmp/ipykernel_13801/366641353.py:10: FutureWarning: 'M' is deprecated and will be removed in a future version, please use 'ME' instead.\n",
      "  date_range = pd.date_range(start=\"2000-01\", end=\"2024-12\", freq=\"M\")\n"
     ]
    }
   ],
   "source": [
    "# Liste des fichiers CSV des entreprises\n",
    "companies= [\"amazon_data.csv\",\n",
    "    \"apple_data.csv\",\n",
    "    \"google_data.csv\",\n",
    "    \"meta_data.csv\",\n",
    "    \"microsoft_data.csv\"\n",
    "]\n",
    "\n",
    "# Créer un DataFrame principal avec toutes les dates possibles de 2000 à 2024\n",
    "date_range = pd.date_range(start=\"2000-01\", end=\"2024-12\", freq=\"M\")\n",
    "final_df = pd.DataFrame({'year_month': date_range.to_period('M')})\n",
    "\n",
    "for file in companies:\n",
    "    # Charger les données\n",
    "    df = pd.read_csv(\"all_data_used/\"+ file)\n",
    "\n",
    "    # Récupérer le nom de l'entreprise\n",
    "    company_name = file.replace(\"_data.csv\", \"\").replace(\".csv\", \"\").replace(\" \", \"\")\n",
    "\n",
    "    # Convertir la colonne timestamp en datetime\n",
    "    df['timestamp'] = pd.to_datetime(df['timestamp'])\n",
    "\n",
    "    # Ajouter une colonne année-mois\n",
    "    df['year_month'] = df['timestamp'].dt.to_period('M')\n",
    "\n",
    "    # Calculer le prix des actions \n",
    "    df = df[['year_month', 'high', 'low', 'volume']]\n",
    "    df[f'{company_name}_stock_price'] = (df['high'] + df['low']) / 2\n",
    "    df[f'{company_name}_stock_volume'] = df['volume']\n",
    "\n",
    "    # Garder uniquement les colonnes de la société traitée\n",
    "    df = df[['year_month', f'{company_name}_stock_price', f'{company_name}_stock_volume']]\n",
    "\n",
    "    # Supprimer les colonnes existantes dans final_df avant fusion\n",
    "    for col in [f'{company_name}_stock_price', f'{company_name}_stock_volume']:\n",
    "        if col in final_df.columns:\n",
    "            final_df.drop(columns=col, inplace=True)\n",
    "\n",
    "    # Fusionner directement avec le DataFrame principal\n",
    "    final_df = pd.merge(final_df, df, on='year_month', how='left')"
   ]
  },
  {
   "cell_type": "code",
   "execution_count": 111,
   "metadata": {},
   "outputs": [
    {
     "data": {
      "text/html": [
       "<div>\n",
       "<style scoped>\n",
       "    .dataframe tbody tr th:only-of-type {\n",
       "        vertical-align: middle;\n",
       "    }\n",
       "\n",
       "    .dataframe tbody tr th {\n",
       "        vertical-align: top;\n",
       "    }\n",
       "\n",
       "    .dataframe thead th {\n",
       "        text-align: right;\n",
       "    }\n",
       "</style>\n",
       "<table border=\"1\" class=\"dataframe\">\n",
       "  <thead>\n",
       "    <tr style=\"text-align: right;\">\n",
       "      <th></th>\n",
       "      <th>year_month</th>\n",
       "      <th>amazon_stock_price</th>\n",
       "      <th>amazon_stock_volume</th>\n",
       "      <th>apple_stock_price</th>\n",
       "      <th>apple_stock_volume</th>\n",
       "      <th>google_stock_price</th>\n",
       "      <th>google_stock_volume</th>\n",
       "      <th>meta_stock_price</th>\n",
       "      <th>meta_stock_volume</th>\n",
       "      <th>microsoft_stock_price</th>\n",
       "      <th>microsoft_stock_volume</th>\n",
       "    </tr>\n",
       "  </thead>\n",
       "  <tbody>\n",
       "    <tr>\n",
       "      <th>0</th>\n",
       "      <td>2000-01</td>\n",
       "      <td>74.970</td>\n",
       "      <td>262209000</td>\n",
       "      <td>104.000</td>\n",
       "      <td>112099800</td>\n",
       "      <td>NaN</td>\n",
       "      <td>NaN</td>\n",
       "      <td>NaN</td>\n",
       "      <td>NaN</td>\n",
       "      <td>106.745</td>\n",
       "      <td>637437600</td>\n",
       "    </tr>\n",
       "    <tr>\n",
       "      <th>1</th>\n",
       "      <td>2000-02</td>\n",
       "      <td>74.500</td>\n",
       "      <td>207457700</td>\n",
       "      <td>108.470</td>\n",
       "      <td>65355200</td>\n",
       "      <td>NaN</td>\n",
       "      <td>NaN</td>\n",
       "      <td>NaN</td>\n",
       "      <td>NaN</td>\n",
       "      <td>99.060</td>\n",
       "      <td>667243800</td>\n",
       "    </tr>\n",
       "    <tr>\n",
       "      <th>2</th>\n",
       "      <td>2000-03</td>\n",
       "      <td>67.625</td>\n",
       "      <td>156584600</td>\n",
       "      <td>132.190</td>\n",
       "      <td>77663900</td>\n",
       "      <td>NaN</td>\n",
       "      <td>NaN</td>\n",
       "      <td>NaN</td>\n",
       "      <td>NaN</td>\n",
       "      <td>101.970</td>\n",
       "      <td>1014093800</td>\n",
       "    </tr>\n",
       "    <tr>\n",
       "      <th>3</th>\n",
       "      <td>2000-04</td>\n",
       "      <td>54.720</td>\n",
       "      <td>162012500</td>\n",
       "      <td>122.185</td>\n",
       "      <td>77342900</td>\n",
       "      <td>NaN</td>\n",
       "      <td>NaN</td>\n",
       "      <td>NaN</td>\n",
       "      <td>NaN</td>\n",
       "      <td>80.750</td>\n",
       "      <td>1129073300</td>\n",
       "    </tr>\n",
       "    <tr>\n",
       "      <th>4</th>\n",
       "      <td>2000-05</td>\n",
       "      <td>51.410</td>\n",
       "      <td>130688600</td>\n",
       "      <td>104.000</td>\n",
       "      <td>87569200</td>\n",
       "      <td>NaN</td>\n",
       "      <td>NaN</td>\n",
       "      <td>NaN</td>\n",
       "      <td>NaN</td>\n",
       "      <td>67.190</td>\n",
       "      <td>672215400</td>\n",
       "    </tr>\n",
       "  </tbody>\n",
       "</table>\n",
       "</div>"
      ],
      "text/plain": [
       "  year_month  amazon_stock_price  amazon_stock_volume  apple_stock_price  \\\n",
       "0    2000-01              74.970            262209000            104.000   \n",
       "1    2000-02              74.500            207457700            108.470   \n",
       "2    2000-03              67.625            156584600            132.190   \n",
       "3    2000-04              54.720            162012500            122.185   \n",
       "4    2000-05              51.410            130688600            104.000   \n",
       "\n",
       "   apple_stock_volume  google_stock_price  google_stock_volume  \\\n",
       "0           112099800                 NaN                  NaN   \n",
       "1            65355200                 NaN                  NaN   \n",
       "2            77663900                 NaN                  NaN   \n",
       "3            77342900                 NaN                  NaN   \n",
       "4            87569200                 NaN                  NaN   \n",
       "\n",
       "   meta_stock_price  meta_stock_volume  microsoft_stock_price  \\\n",
       "0               NaN                NaN                106.745   \n",
       "1               NaN                NaN                 99.060   \n",
       "2               NaN                NaN                101.970   \n",
       "3               NaN                NaN                 80.750   \n",
       "4               NaN                NaN                 67.190   \n",
       "\n",
       "   microsoft_stock_volume  \n",
       "0               637437600  \n",
       "1               667243800  \n",
       "2              1014093800  \n",
       "3              1129073300  \n",
       "4               672215400  "
      ]
     },
     "execution_count": 111,
     "metadata": {},
     "output_type": "execute_result"
    }
   ],
   "source": [
    "final_df.head()"
   ]
  },
  {
   "cell_type": "markdown",
   "metadata": {},
   "source": [
    "Maintenant, nous allons intégrer les données des actifs financiers (Bitcoin, Ethereum, or, et S&P 500) dans la base principale. Chaque fichier CSV est chargé en ignorant les lignes inutiles. Les colonnes pertinentes (`Date`, `High`, `Low`, `Volume`) sont sélectionnées puis renommées pour assurer une uniformité avec les autres données. Une colonne `year_month` est ajoutée pour grouper les données par mois, et le prix moyen de chaque actif est calculé comme valeur moyenne de `High` et `Low`. Les données des actifs, bien qu'elles commencent à des dates différentes, sont alignées sur la période 2000-2024, avec des valeurs manquantes (`NaN`) ajoutées pour les mois absents. Ces données manquantes seront traitées dans la phase de nettoyage.\n"
   ]
  },
  {
   "cell_type": "code",
   "execution_count": 112,
   "metadata": {},
   "outputs": [],
   "source": [
    "element_files = [\n",
    "    \"bitcoin_historical_data.csv\",\n",
    "    \"ethereum_historical_data.csv\",\n",
    "    \"gold_historical_data.csv\",\n",
    "    \"s&p 500_historical_data.csv\"\n",
    "]\n",
    "# Boucle sur chaque fichier d'éléments\n",
    "for file in element_files:\n",
    "    # Charger les données en ignorant les deux premières lignes inutiles\n",
    "    df = pd.read_csv(\"all_data_used/\"+ file, skiprows=2)\n",
    "\n",
    "    # Récupérer le nom de l'élément\n",
    "    element_name = file.replace(\"_historical_data.csv\", \"\").replace(\".csv\", \"\").replace(\" \", \"\").lower()\n",
    "\n",
    "    # Renommer les colonnes en utilisant leur position\n",
    "    df = df.iloc[:, [0, 2, 3, 5]]  # Sélectionne les colonnes Date, High, Low, Volume\n",
    "    df.columns = [\"timestamp\", \"high\", \"low\", \"volume\"]  # Renommer pour uniformité\n",
    "\n",
    "    # Convertir la colonne timestamp en datetime\n",
    "    df['timestamp'] = pd.to_datetime(df['timestamp'])\n",
    "\n",
    "    # Ajouter une colonne année-mois\n",
    "    df['year_month'] = df['timestamp'].dt.to_period('M')\n",
    "\n",
    "    # Calculer le prix moyen\n",
    "    df[f'{element_name}_price'] = (df['high'] + df['low']) / 2\n",
    "    df[f'{element_name}_volume'] = df['volume']\n",
    "\n",
    "    # Garder uniquement les colonnes nécessaires\n",
    "    df = df[['year_month', f'{element_name}_price', f'{element_name}_volume']]\n",
    "\n",
    "    # Supprimer les colonnes existantes avant fusion\n",
    "    for col in [f'{element_name}_price', f'{element_name}_volume']:\n",
    "        if col in final_df.columns:\n",
    "            final_df.drop(columns=col, inplace=True)\n",
    "\n",
    "    # Fusionner avec le DataFrame principal\n",
    "    final_df = pd.merge(final_df, df, on='year_month', how='left')\n"
   ]
  },
  {
   "cell_type": "code",
   "execution_count": 113,
   "metadata": {},
   "outputs": [
    {
     "data": {
      "text/html": [
       "<div>\n",
       "<style scoped>\n",
       "    .dataframe tbody tr th:only-of-type {\n",
       "        vertical-align: middle;\n",
       "    }\n",
       "\n",
       "    .dataframe tbody tr th {\n",
       "        vertical-align: top;\n",
       "    }\n",
       "\n",
       "    .dataframe thead th {\n",
       "        text-align: right;\n",
       "    }\n",
       "</style>\n",
       "<table border=\"1\" class=\"dataframe\">\n",
       "  <thead>\n",
       "    <tr style=\"text-align: right;\">\n",
       "      <th></th>\n",
       "      <th>year_month</th>\n",
       "      <th>amazon_stock_price</th>\n",
       "      <th>amazon_stock_volume</th>\n",
       "      <th>apple_stock_price</th>\n",
       "      <th>apple_stock_volume</th>\n",
       "      <th>google_stock_price</th>\n",
       "      <th>google_stock_volume</th>\n",
       "      <th>meta_stock_price</th>\n",
       "      <th>meta_stock_volume</th>\n",
       "      <th>microsoft_stock_price</th>\n",
       "      <th>microsoft_stock_volume</th>\n",
       "      <th>bitcoin_price</th>\n",
       "      <th>bitcoin_volume</th>\n",
       "      <th>ethereum_price</th>\n",
       "      <th>ethereum_volume</th>\n",
       "      <th>gold_price</th>\n",
       "      <th>gold_volume</th>\n",
       "      <th>s&amp;p500_price</th>\n",
       "      <th>s&amp;p500_volume</th>\n",
       "    </tr>\n",
       "  </thead>\n",
       "  <tbody>\n",
       "    <tr>\n",
       "      <th>0</th>\n",
       "      <td>2000-01</td>\n",
       "      <td>74.970</td>\n",
       "      <td>262209000</td>\n",
       "      <td>104.000</td>\n",
       "      <td>112099800</td>\n",
       "      <td>NaN</td>\n",
       "      <td>NaN</td>\n",
       "      <td>NaN</td>\n",
       "      <td>NaN</td>\n",
       "      <td>106.745</td>\n",
       "      <td>637437600</td>\n",
       "      <td>NaN</td>\n",
       "      <td>NaN</td>\n",
       "      <td>NaN</td>\n",
       "      <td>NaN</td>\n",
       "      <td>NaN</td>\n",
       "      <td>NaN</td>\n",
       "      <td>1414.070007</td>\n",
       "      <td>21494400000</td>\n",
       "    </tr>\n",
       "    <tr>\n",
       "      <th>1</th>\n",
       "      <td>2000-02</td>\n",
       "      <td>74.500</td>\n",
       "      <td>207457700</td>\n",
       "      <td>108.470</td>\n",
       "      <td>65355200</td>\n",
       "      <td>NaN</td>\n",
       "      <td>NaN</td>\n",
       "      <td>NaN</td>\n",
       "      <td>NaN</td>\n",
       "      <td>99.060</td>\n",
       "      <td>667243800</td>\n",
       "      <td>NaN</td>\n",
       "      <td>NaN</td>\n",
       "      <td>NaN</td>\n",
       "      <td>NaN</td>\n",
       "      <td>NaN</td>\n",
       "      <td>NaN</td>\n",
       "      <td>1384.809998</td>\n",
       "      <td>20912000000</td>\n",
       "    </tr>\n",
       "    <tr>\n",
       "      <th>2</th>\n",
       "      <td>2000-03</td>\n",
       "      <td>67.625</td>\n",
       "      <td>156584600</td>\n",
       "      <td>132.190</td>\n",
       "      <td>77663900</td>\n",
       "      <td>NaN</td>\n",
       "      <td>NaN</td>\n",
       "      <td>NaN</td>\n",
       "      <td>NaN</td>\n",
       "      <td>101.970</td>\n",
       "      <td>1014093800</td>\n",
       "      <td>NaN</td>\n",
       "      <td>NaN</td>\n",
       "      <td>NaN</td>\n",
       "      <td>NaN</td>\n",
       "      <td>NaN</td>\n",
       "      <td>NaN</td>\n",
       "      <td>1449.744995</td>\n",
       "      <td>26156200000</td>\n",
       "    </tr>\n",
       "    <tr>\n",
       "      <th>3</th>\n",
       "      <td>2000-04</td>\n",
       "      <td>54.720</td>\n",
       "      <td>162012500</td>\n",
       "      <td>122.185</td>\n",
       "      <td>77342900</td>\n",
       "      <td>NaN</td>\n",
       "      <td>NaN</td>\n",
       "      <td>NaN</td>\n",
       "      <td>NaN</td>\n",
       "      <td>80.750</td>\n",
       "      <td>1129073300</td>\n",
       "      <td>NaN</td>\n",
       "      <td>NaN</td>\n",
       "      <td>NaN</td>\n",
       "      <td>NaN</td>\n",
       "      <td>NaN</td>\n",
       "      <td>NaN</td>\n",
       "      <td>1433.294983</td>\n",
       "      <td>20106460000</td>\n",
       "    </tr>\n",
       "    <tr>\n",
       "      <th>4</th>\n",
       "      <td>2000-05</td>\n",
       "      <td>51.410</td>\n",
       "      <td>130688600</td>\n",
       "      <td>104.000</td>\n",
       "      <td>87569200</td>\n",
       "      <td>NaN</td>\n",
       "      <td>NaN</td>\n",
       "      <td>NaN</td>\n",
       "      <td>NaN</td>\n",
       "      <td>67.190</td>\n",
       "      <td>672215400</td>\n",
       "      <td>NaN</td>\n",
       "      <td>NaN</td>\n",
       "      <td>NaN</td>\n",
       "      <td>NaN</td>\n",
       "      <td>NaN</td>\n",
       "      <td>NaN</td>\n",
       "      <td>1421.299988</td>\n",
       "      <td>19898300000</td>\n",
       "    </tr>\n",
       "  </tbody>\n",
       "</table>\n",
       "</div>"
      ],
      "text/plain": [
       "  year_month  amazon_stock_price  amazon_stock_volume  apple_stock_price  \\\n",
       "0    2000-01              74.970            262209000            104.000   \n",
       "1    2000-02              74.500            207457700            108.470   \n",
       "2    2000-03              67.625            156584600            132.190   \n",
       "3    2000-04              54.720            162012500            122.185   \n",
       "4    2000-05              51.410            130688600            104.000   \n",
       "\n",
       "   apple_stock_volume  google_stock_price  google_stock_volume  \\\n",
       "0           112099800                 NaN                  NaN   \n",
       "1            65355200                 NaN                  NaN   \n",
       "2            77663900                 NaN                  NaN   \n",
       "3            77342900                 NaN                  NaN   \n",
       "4            87569200                 NaN                  NaN   \n",
       "\n",
       "   meta_stock_price  meta_stock_volume  microsoft_stock_price  \\\n",
       "0               NaN                NaN                106.745   \n",
       "1               NaN                NaN                 99.060   \n",
       "2               NaN                NaN                101.970   \n",
       "3               NaN                NaN                 80.750   \n",
       "4               NaN                NaN                 67.190   \n",
       "\n",
       "   microsoft_stock_volume  bitcoin_price  bitcoin_volume  ethereum_price  \\\n",
       "0               637437600            NaN             NaN             NaN   \n",
       "1               667243800            NaN             NaN             NaN   \n",
       "2              1014093800            NaN             NaN             NaN   \n",
       "3              1129073300            NaN             NaN             NaN   \n",
       "4               672215400            NaN             NaN             NaN   \n",
       "\n",
       "   ethereum_volume  gold_price  gold_volume  s&p500_price  s&p500_volume  \n",
       "0              NaN         NaN          NaN   1414.070007    21494400000  \n",
       "1              NaN         NaN          NaN   1384.809998    20912000000  \n",
       "2              NaN         NaN          NaN   1449.744995    26156200000  \n",
       "3              NaN         NaN          NaN   1433.294983    20106460000  \n",
       "4              NaN         NaN          NaN   1421.299988    19898300000  "
      ]
     },
     "execution_count": 113,
     "metadata": {},
     "output_type": "execute_result"
    }
   ],
   "source": [
    "final_df.head()"
   ]
  },
  {
   "cell_type": "code",
   "execution_count": 114,
   "metadata": {},
   "outputs": [
    {
     "name": "stdout",
     "output_type": "stream",
     "text": [
      "Le DataFrame final a été sauvegardé dans '/home/onyxia/work/projet_gold_refuge/all_data_used/final_combined_data.csv'.\n"
     ]
    }
   ],
   "source": [
    "file_path = os.path.join(\"/home/onyxia/work/projet_gold_refuge/all_data_used\", \"final_combined_data.csv\")\n",
    "# Sauvegarder le DataFrame dans le fichier CSV\n",
    "final_df.to_csv(file_path, index=False)\n",
    "print(f\"Le DataFrame final a été sauvegardé dans '{file_path}'.\")"
   ]
  },
  {
   "cell_type": "markdown",
   "metadata": {},
   "source": [
    "*3.2. Traitement des valeurs manquantes*"
   ]
  },
  {
   "cell_type": "markdown",
   "metadata": {},
   "source": [
    "Dans cette section, nous allons traiter les valeurs manquantes. Commençons d'abord par regarder le nombre de valeurs manquantes existantes dans notre base de données. "
   ]
  },
  {
   "cell_type": "code",
   "execution_count": 115,
   "metadata": {},
   "outputs": [
    {
     "name": "stdout",
     "output_type": "stream",
     "text": [
      "Nombre total de valeurs manquantes dans final_df : 1294\n"
     ]
    }
   ],
   "source": [
    "missing_values_count = final_df.isnull().sum().sum()\n",
    "print(f\"Nombre total de valeurs manquantes dans final_df : {missing_values_count}\")\n"
   ]
  },
  {
   "cell_type": "markdown",
   "metadata": {},
   "source": [
    "*3.2.1. Premier cas*"
   ]
  },
  {
   "cell_type": "markdown",
   "metadata": {},
   "source": [
    "Cette partie traite exclusivement des valeurs manquantes dans les colonnes numériques lorsque celles-ci contiennent au moins une valeur existante pour l'année concernée. Dans ces cas, les valeurs manquantes sont remplacées par la moyenne annuelle calculée à partir des données disponibles de la même année. Cette méthode garantit que les remplacements respectent les spécificités temporelles des données, en reflétant les tendances propres à chaque année, tout en évitant les biais liés à des variations interannuelles. Si une colonne est entièrement vide pour une année donnée, les valeurs manquantes ne sont pas modifiées. Ces valeurs seront traitées dans le second cas par la suite. "
   ]
  },
  {
   "cell_type": "code",
   "execution_count": 116,
   "metadata": {},
   "outputs": [],
   "source": [
    "# Vérifier les colonnes avec des valeurs numériques uniquement\n",
    "numeric_columns = final_df.select_dtypes(include=['float64', 'int64']).columns\n",
    "\n",
    "# Remplacer les valeurs manquantes par la moyenne annuelle si possible\n",
    "for col in numeric_columns:\n",
    "    # Calculer la moyenne annuelle pour chaque colonne en ignorant les NaN\n",
    "    annual_mean = final_df.groupby(final_df['year_month'].dt.year)[col].transform('mean')\n",
    "    \n",
    "    # Remplacer les NaN par la moyenne annuelle calculée\n",
    "    final_df[col] = final_df[col].fillna(annual_mean)\n"
   ]
  },
  {
   "cell_type": "code",
   "execution_count": 117,
   "metadata": {},
   "outputs": [
    {
     "name": "stdout",
     "output_type": "stream",
     "text": [
      "Nombre total de valeurs manquantes dans final_df : 1128\n"
     ]
    }
   ],
   "source": [
    "missing_values_count = final_df.isnull().sum().sum()\n",
    "print(f\"Nombre total de valeurs manquantes dans final_df : {missing_values_count}\")"
   ]
  },
  {
   "cell_type": "markdown",
   "metadata": {},
   "source": [
    "*3.2.2. Second cas*"
   ]
  },
  {
   "cell_type": "markdown",
   "metadata": {},
   "source": [
    "Pour les valeurs manquantes qui restent après le traitement précédent, nous les remplaçons par la moyenne globale de toute la colonne."
   ]
  },
  {
   "cell_type": "code",
   "execution_count": 118,
   "metadata": {},
   "outputs": [],
   "source": [
    "for col in numeric_columns:\n",
    "    # Calculer la moyenne globale en ignorant les NaN\n",
    "    global_mean = final_df[col].mean()\n",
    "    \n",
    "    # Remplacer les NaN restants par la moyenne globale\n",
    "    final_df[col] = final_df[col].fillna(global_mean)"
   ]
  },
  {
   "cell_type": "code",
   "execution_count": 119,
   "metadata": {},
   "outputs": [
    {
     "data": {
      "text/html": [
       "<div>\n",
       "<style scoped>\n",
       "    .dataframe tbody tr th:only-of-type {\n",
       "        vertical-align: middle;\n",
       "    }\n",
       "\n",
       "    .dataframe tbody tr th {\n",
       "        vertical-align: top;\n",
       "    }\n",
       "\n",
       "    .dataframe thead th {\n",
       "        text-align: right;\n",
       "    }\n",
       "</style>\n",
       "<table border=\"1\" class=\"dataframe\">\n",
       "  <thead>\n",
       "    <tr style=\"text-align: right;\">\n",
       "      <th></th>\n",
       "      <th>year_month</th>\n",
       "      <th>amazon_stock_price</th>\n",
       "      <th>amazon_stock_volume</th>\n",
       "      <th>apple_stock_price</th>\n",
       "      <th>apple_stock_volume</th>\n",
       "      <th>google_stock_price</th>\n",
       "      <th>google_stock_volume</th>\n",
       "      <th>meta_stock_price</th>\n",
       "      <th>meta_stock_volume</th>\n",
       "      <th>microsoft_stock_price</th>\n",
       "      <th>microsoft_stock_volume</th>\n",
       "      <th>bitcoin_price</th>\n",
       "      <th>bitcoin_volume</th>\n",
       "      <th>ethereum_price</th>\n",
       "      <th>ethereum_volume</th>\n",
       "      <th>gold_price</th>\n",
       "      <th>gold_volume</th>\n",
       "      <th>s&amp;p500_price</th>\n",
       "      <th>s&amp;p500_volume</th>\n",
       "    </tr>\n",
       "  </thead>\n",
       "  <tbody>\n",
       "    <tr>\n",
       "      <th>0</th>\n",
       "      <td>2000-01</td>\n",
       "      <td>74.970</td>\n",
       "      <td>262209000</td>\n",
       "      <td>104.000</td>\n",
       "      <td>112099800</td>\n",
       "      <td>760.629032</td>\n",
       "      <td>1.979314e+08</td>\n",
       "      <td>177.585127</td>\n",
       "      <td>6.236496e+08</td>\n",
       "      <td>106.745</td>\n",
       "      <td>637437600</td>\n",
       "      <td>17705.370867</td>\n",
       "      <td>5.175726e+11</td>\n",
       "      <td>1382.316098</td>\n",
       "      <td>3.549254e+11</td>\n",
       "      <td>270.916667</td>\n",
       "      <td>12806.666667</td>\n",
       "      <td>1414.070007</td>\n",
       "      <td>21494400000</td>\n",
       "    </tr>\n",
       "    <tr>\n",
       "      <th>1</th>\n",
       "      <td>2000-02</td>\n",
       "      <td>74.500</td>\n",
       "      <td>207457700</td>\n",
       "      <td>108.470</td>\n",
       "      <td>65355200</td>\n",
       "      <td>760.629032</td>\n",
       "      <td>1.979314e+08</td>\n",
       "      <td>177.585127</td>\n",
       "      <td>6.236496e+08</td>\n",
       "      <td>99.060</td>\n",
       "      <td>667243800</td>\n",
       "      <td>17705.370867</td>\n",
       "      <td>5.175726e+11</td>\n",
       "      <td>1382.316098</td>\n",
       "      <td>3.549254e+11</td>\n",
       "      <td>270.916667</td>\n",
       "      <td>12806.666667</td>\n",
       "      <td>1384.809998</td>\n",
       "      <td>20912000000</td>\n",
       "    </tr>\n",
       "    <tr>\n",
       "      <th>2</th>\n",
       "      <td>2000-03</td>\n",
       "      <td>67.625</td>\n",
       "      <td>156584600</td>\n",
       "      <td>132.190</td>\n",
       "      <td>77663900</td>\n",
       "      <td>760.629032</td>\n",
       "      <td>1.979314e+08</td>\n",
       "      <td>177.585127</td>\n",
       "      <td>6.236496e+08</td>\n",
       "      <td>101.970</td>\n",
       "      <td>1014093800</td>\n",
       "      <td>17705.370867</td>\n",
       "      <td>5.175726e+11</td>\n",
       "      <td>1382.316098</td>\n",
       "      <td>3.549254e+11</td>\n",
       "      <td>270.916667</td>\n",
       "      <td>12806.666667</td>\n",
       "      <td>1449.744995</td>\n",
       "      <td>26156200000</td>\n",
       "    </tr>\n",
       "    <tr>\n",
       "      <th>3</th>\n",
       "      <td>2000-04</td>\n",
       "      <td>54.720</td>\n",
       "      <td>162012500</td>\n",
       "      <td>122.185</td>\n",
       "      <td>77342900</td>\n",
       "      <td>760.629032</td>\n",
       "      <td>1.979314e+08</td>\n",
       "      <td>177.585127</td>\n",
       "      <td>6.236496e+08</td>\n",
       "      <td>80.750</td>\n",
       "      <td>1129073300</td>\n",
       "      <td>17705.370867</td>\n",
       "      <td>5.175726e+11</td>\n",
       "      <td>1382.316098</td>\n",
       "      <td>3.549254e+11</td>\n",
       "      <td>270.916667</td>\n",
       "      <td>12806.666667</td>\n",
       "      <td>1433.294983</td>\n",
       "      <td>20106460000</td>\n",
       "    </tr>\n",
       "    <tr>\n",
       "      <th>4</th>\n",
       "      <td>2000-05</td>\n",
       "      <td>51.410</td>\n",
       "      <td>130688600</td>\n",
       "      <td>104.000</td>\n",
       "      <td>87569200</td>\n",
       "      <td>760.629032</td>\n",
       "      <td>1.979314e+08</td>\n",
       "      <td>177.585127</td>\n",
       "      <td>6.236496e+08</td>\n",
       "      <td>67.190</td>\n",
       "      <td>672215400</td>\n",
       "      <td>17705.370867</td>\n",
       "      <td>5.175726e+11</td>\n",
       "      <td>1382.316098</td>\n",
       "      <td>3.549254e+11</td>\n",
       "      <td>270.916667</td>\n",
       "      <td>12806.666667</td>\n",
       "      <td>1421.299988</td>\n",
       "      <td>19898300000</td>\n",
       "    </tr>\n",
       "  </tbody>\n",
       "</table>\n",
       "</div>"
      ],
      "text/plain": [
       "  year_month  amazon_stock_price  amazon_stock_volume  apple_stock_price  \\\n",
       "0    2000-01              74.970            262209000            104.000   \n",
       "1    2000-02              74.500            207457700            108.470   \n",
       "2    2000-03              67.625            156584600            132.190   \n",
       "3    2000-04              54.720            162012500            122.185   \n",
       "4    2000-05              51.410            130688600            104.000   \n",
       "\n",
       "   apple_stock_volume  google_stock_price  google_stock_volume  \\\n",
       "0           112099800          760.629032         1.979314e+08   \n",
       "1            65355200          760.629032         1.979314e+08   \n",
       "2            77663900          760.629032         1.979314e+08   \n",
       "3            77342900          760.629032         1.979314e+08   \n",
       "4            87569200          760.629032         1.979314e+08   \n",
       "\n",
       "   meta_stock_price  meta_stock_volume  microsoft_stock_price  \\\n",
       "0        177.585127       6.236496e+08                106.745   \n",
       "1        177.585127       6.236496e+08                 99.060   \n",
       "2        177.585127       6.236496e+08                101.970   \n",
       "3        177.585127       6.236496e+08                 80.750   \n",
       "4        177.585127       6.236496e+08                 67.190   \n",
       "\n",
       "   microsoft_stock_volume  bitcoin_price  bitcoin_volume  ethereum_price  \\\n",
       "0               637437600   17705.370867    5.175726e+11     1382.316098   \n",
       "1               667243800   17705.370867    5.175726e+11     1382.316098   \n",
       "2              1014093800   17705.370867    5.175726e+11     1382.316098   \n",
       "3              1129073300   17705.370867    5.175726e+11     1382.316098   \n",
       "4               672215400   17705.370867    5.175726e+11     1382.316098   \n",
       "\n",
       "   ethereum_volume  gold_price   gold_volume  s&p500_price  s&p500_volume  \n",
       "0     3.549254e+11  270.916667  12806.666667   1414.070007    21494400000  \n",
       "1     3.549254e+11  270.916667  12806.666667   1384.809998    20912000000  \n",
       "2     3.549254e+11  270.916667  12806.666667   1449.744995    26156200000  \n",
       "3     3.549254e+11  270.916667  12806.666667   1433.294983    20106460000  \n",
       "4     3.549254e+11  270.916667  12806.666667   1421.299988    19898300000  "
      ]
     },
     "execution_count": 119,
     "metadata": {},
     "output_type": "execute_result"
    }
   ],
   "source": [
    "final_df.head()"
   ]
  },
  {
   "cell_type": "code",
   "execution_count": 120,
   "metadata": {},
   "outputs": [
    {
     "name": "stdout",
     "output_type": "stream",
     "text": [
      "Nombre total de valeurs manquantes dans final_df : 0\n"
     ]
    }
   ],
   "source": [
    "missing_values_count = final_df.isnull().sum().sum()\n",
    "print(f\"Nombre total de valeurs manquantes dans final_df : {missing_values_count}\")"
   ]
  },
  {
   "cell_type": "markdown",
   "metadata": {},
   "source": [
    "\n",
    "Ainsi, après les étapes de collecte, réorganisation et nettoyage des données brutes, notre base de données est désormais complète et prête pour la phase descriptive et la modélisation."
   ]
  },
  {
   "cell_type": "markdown",
   "metadata": {},
   "source": [
    "# Partie II - Partie descriptive"
   ]
  },
  {
   "cell_type": "markdown",
   "metadata": {},
   "source": [
    "Cette partie a pour objectif de décrire et interpréter les fluctuations de l'or et des principales cryptomonnaies et actions sur les marchés financiers, afin d'analyser si l'or et les cryptomonnaies correspondent aux critères remplis par une valeur refuge. Une valeur refuge est un actif particulièrement demandé lors des périodes de crises parce qu'il est réputé pour conserver sa valeur dans le temps malgré l'instabilité du contexte économique et financier. Ce type d'actif remplit les critères suivants :\n",
    "- Il dégage des rendements non corrélés à ceux des actions en période de crise\n",
    "- Il joue un rôle de couverture en dégageant des rendements non corrélés sur le long terme.  \n",
    "\n",
    "L'or est un actif financier traditionnellement considéré comme une valeur refuge, dans la mesure où il joue un rôle de réserve de valeur de long terme en période de crise. Au contraire, les cryptommonnaies comme le Bitcoin sont considérés dans la littérature économique comme une mauvaise réserve de valeur du fait de leur forte volatilité et de l'absence de garantie de sa valeur nominale par une instance publique ou privée. Une étude conduite par T. Moore et N. Christin en 2013, citée par J.M. Figuet, montre que sur les 40 plateformes d'échange de bitcoin étudiées, 18 ont fermé, entraînant dans près de la moitié des cas des pertes pour les déposants. En août 2016, Bitfinex a été victime d’un piratage informatique impliquant la perte de 120 000 bitcoins. Ainsi, les cryptomonnaies apparaissent être des actifs financiers particulièrement risqués et peu fiables, ce qui apparaît remettre en cause leur capacité à être une valeur refuge. Dans la presse ces derniers mois, les cryptomonnaies sont toutefois décrites comme de nouvelles valeurs refuges. \n",
    "\n",
    "Les données financières étudiées, entre 2000 et 2024, permettent d'étudier si dans les faits l'or et les cryptomonnaies sont des valeurs refuges. "
   ]
  },
  {
   "cell_type": "markdown",
   "metadata": {},
   "source": [
    "1. Travail préliminaire d'aide à la visualisation"
   ]
  },
  {
   "cell_type": "markdown",
   "metadata": {},
   "source": [
    "*1.1. Affichage des données*"
   ]
  },
  {
   "cell_type": "markdown",
   "metadata": {},
   "source": [
    "Afin de faciliter la visualisation, on conserve trois décimales pour le prix des actions pour lesquelles ce n'est pas déjà le cas. On conserve six décimales pour le prix des cryptomonnaies. En effet, les cryptomonnaies sont divisibles en très petites unités ; réduire le nombre de décimales serait donc synonyme de perte d'information."
   ]
  },
  {
   "cell_type": "code",
   "execution_count": 121,
   "metadata": {},
   "outputs": [],
   "source": [
    "# Arrondir le prix des actions à 3 décimales lorsque nécessaire \n",
    "final_df = final_df.round({'amazon_stock_price': 3, 'google_stock_price': 3, 'meta_stock_price': 3})\n"
   ]
  },
  {
   "cell_type": "markdown",
   "metadata": {},
   "source": [
    "On effectue également des modifications sur le volume en évitant l'écriture scientifique pour plus de lisibilité. "
   ]
  },
  {
   "cell_type": "code",
   "execution_count": 122,
   "metadata": {},
   "outputs": [],
   "source": [
    "# Fonction pour convertir les colonnes spécifiées en entiers\n",
    "def convert_to_int(df, columns):\n",
    "    df[columns] = df[columns].astype(int)\n",
    "    return df"
   ]
  },
  {
   "cell_type": "code",
   "execution_count": 123,
   "metadata": {},
   "outputs": [
    {
     "data": {
      "text/html": [
       "<div>\n",
       "<style scoped>\n",
       "    .dataframe tbody tr th:only-of-type {\n",
       "        vertical-align: middle;\n",
       "    }\n",
       "\n",
       "    .dataframe tbody tr th {\n",
       "        vertical-align: top;\n",
       "    }\n",
       "\n",
       "    .dataframe thead th {\n",
       "        text-align: right;\n",
       "    }\n",
       "</style>\n",
       "<table border=\"1\" class=\"dataframe\">\n",
       "  <thead>\n",
       "    <tr style=\"text-align: right;\">\n",
       "      <th></th>\n",
       "      <th>year_month</th>\n",
       "      <th>amazon_stock_price</th>\n",
       "      <th>amazon_stock_volume</th>\n",
       "      <th>apple_stock_price</th>\n",
       "      <th>apple_stock_volume</th>\n",
       "      <th>google_stock_price</th>\n",
       "      <th>google_stock_volume</th>\n",
       "      <th>meta_stock_price</th>\n",
       "      <th>meta_stock_volume</th>\n",
       "      <th>microsoft_stock_price</th>\n",
       "      <th>microsoft_stock_volume</th>\n",
       "      <th>bitcoin_price</th>\n",
       "      <th>bitcoin_volume</th>\n",
       "      <th>ethereum_price</th>\n",
       "      <th>ethereum_volume</th>\n",
       "      <th>gold_price</th>\n",
       "      <th>gold_volume</th>\n",
       "      <th>s&amp;p500_price</th>\n",
       "      <th>s&amp;p500_volume</th>\n",
       "    </tr>\n",
       "  </thead>\n",
       "  <tbody>\n",
       "    <tr>\n",
       "      <th>0</th>\n",
       "      <td>2000-01</td>\n",
       "      <td>74.970</td>\n",
       "      <td>262209000</td>\n",
       "      <td>104.000</td>\n",
       "      <td>112099800</td>\n",
       "      <td>760.629</td>\n",
       "      <td>197931417</td>\n",
       "      <td>177.585</td>\n",
       "      <td>623649587</td>\n",
       "      <td>106.745</td>\n",
       "      <td>637437600</td>\n",
       "      <td>17705.370867</td>\n",
       "      <td>517572575203</td>\n",
       "      <td>1382.316098</td>\n",
       "      <td>354925375295</td>\n",
       "      <td>270.916667</td>\n",
       "      <td>12806.666667</td>\n",
       "      <td>1414.070007</td>\n",
       "      <td>21494400000</td>\n",
       "    </tr>\n",
       "    <tr>\n",
       "      <th>1</th>\n",
       "      <td>2000-02</td>\n",
       "      <td>74.500</td>\n",
       "      <td>207457700</td>\n",
       "      <td>108.470</td>\n",
       "      <td>65355200</td>\n",
       "      <td>760.629</td>\n",
       "      <td>197931417</td>\n",
       "      <td>177.585</td>\n",
       "      <td>623649587</td>\n",
       "      <td>99.060</td>\n",
       "      <td>667243800</td>\n",
       "      <td>17705.370867</td>\n",
       "      <td>517572575203</td>\n",
       "      <td>1382.316098</td>\n",
       "      <td>354925375295</td>\n",
       "      <td>270.916667</td>\n",
       "      <td>12806.666667</td>\n",
       "      <td>1384.809998</td>\n",
       "      <td>20912000000</td>\n",
       "    </tr>\n",
       "    <tr>\n",
       "      <th>2</th>\n",
       "      <td>2000-03</td>\n",
       "      <td>67.625</td>\n",
       "      <td>156584600</td>\n",
       "      <td>132.190</td>\n",
       "      <td>77663900</td>\n",
       "      <td>760.629</td>\n",
       "      <td>197931417</td>\n",
       "      <td>177.585</td>\n",
       "      <td>623649587</td>\n",
       "      <td>101.970</td>\n",
       "      <td>1014093800</td>\n",
       "      <td>17705.370867</td>\n",
       "      <td>517572575203</td>\n",
       "      <td>1382.316098</td>\n",
       "      <td>354925375295</td>\n",
       "      <td>270.916667</td>\n",
       "      <td>12806.666667</td>\n",
       "      <td>1449.744995</td>\n",
       "      <td>26156200000</td>\n",
       "    </tr>\n",
       "    <tr>\n",
       "      <th>3</th>\n",
       "      <td>2000-04</td>\n",
       "      <td>54.720</td>\n",
       "      <td>162012500</td>\n",
       "      <td>122.185</td>\n",
       "      <td>77342900</td>\n",
       "      <td>760.629</td>\n",
       "      <td>197931417</td>\n",
       "      <td>177.585</td>\n",
       "      <td>623649587</td>\n",
       "      <td>80.750</td>\n",
       "      <td>1129073300</td>\n",
       "      <td>17705.370867</td>\n",
       "      <td>517572575203</td>\n",
       "      <td>1382.316098</td>\n",
       "      <td>354925375295</td>\n",
       "      <td>270.916667</td>\n",
       "      <td>12806.666667</td>\n",
       "      <td>1433.294983</td>\n",
       "      <td>20106460000</td>\n",
       "    </tr>\n",
       "    <tr>\n",
       "      <th>4</th>\n",
       "      <td>2000-05</td>\n",
       "      <td>51.410</td>\n",
       "      <td>130688600</td>\n",
       "      <td>104.000</td>\n",
       "      <td>87569200</td>\n",
       "      <td>760.629</td>\n",
       "      <td>197931417</td>\n",
       "      <td>177.585</td>\n",
       "      <td>623649587</td>\n",
       "      <td>67.190</td>\n",
       "      <td>672215400</td>\n",
       "      <td>17705.370867</td>\n",
       "      <td>517572575203</td>\n",
       "      <td>1382.316098</td>\n",
       "      <td>354925375295</td>\n",
       "      <td>270.916667</td>\n",
       "      <td>12806.666667</td>\n",
       "      <td>1421.299988</td>\n",
       "      <td>19898300000</td>\n",
       "    </tr>\n",
       "  </tbody>\n",
       "</table>\n",
       "</div>"
      ],
      "text/plain": [
       "  year_month  amazon_stock_price  amazon_stock_volume  apple_stock_price  \\\n",
       "0    2000-01              74.970            262209000            104.000   \n",
       "1    2000-02              74.500            207457700            108.470   \n",
       "2    2000-03              67.625            156584600            132.190   \n",
       "3    2000-04              54.720            162012500            122.185   \n",
       "4    2000-05              51.410            130688600            104.000   \n",
       "\n",
       "   apple_stock_volume  google_stock_price  google_stock_volume  \\\n",
       "0           112099800             760.629            197931417   \n",
       "1            65355200             760.629            197931417   \n",
       "2            77663900             760.629            197931417   \n",
       "3            77342900             760.629            197931417   \n",
       "4            87569200             760.629            197931417   \n",
       "\n",
       "   meta_stock_price  meta_stock_volume  microsoft_stock_price  \\\n",
       "0           177.585          623649587                106.745   \n",
       "1           177.585          623649587                 99.060   \n",
       "2           177.585          623649587                101.970   \n",
       "3           177.585          623649587                 80.750   \n",
       "4           177.585          623649587                 67.190   \n",
       "\n",
       "   microsoft_stock_volume  bitcoin_price  bitcoin_volume  ethereum_price  \\\n",
       "0               637437600   17705.370867    517572575203     1382.316098   \n",
       "1               667243800   17705.370867    517572575203     1382.316098   \n",
       "2              1014093800   17705.370867    517572575203     1382.316098   \n",
       "3              1129073300   17705.370867    517572575203     1382.316098   \n",
       "4               672215400   17705.370867    517572575203     1382.316098   \n",
       "\n",
       "   ethereum_volume  gold_price   gold_volume  s&p500_price  s&p500_volume  \n",
       "0     354925375295  270.916667  12806.666667   1414.070007    21494400000  \n",
       "1     354925375295  270.916667  12806.666667   1384.809998    20912000000  \n",
       "2     354925375295  270.916667  12806.666667   1449.744995    26156200000  \n",
       "3     354925375295  270.916667  12806.666667   1433.294983    20106460000  \n",
       "4     354925375295  270.916667  12806.666667   1421.299988    19898300000  "
      ]
     },
     "execution_count": 123,
     "metadata": {},
     "output_type": "execute_result"
    }
   ],
   "source": [
    "# On utilise alors la fonction avec la liste des colonnes à convertir suivante:\n",
    "columns_converted = ['google_stock_volume', 'ethereum_volume', 'bitcoin_volume', 's&p500_volume', 'meta_stock_volume']\n",
    "\n",
    "# Application de la fonction à final_df\n",
    "final_df = convert_to_int(final_df, columns_converted)\n",
    "\n",
    "# Afficher les premières lignes du df modifié \n",
    "final_df.head()"
   ]
  },
  {
   "cell_type": "markdown",
   "metadata": {},
   "source": [
    "*1.2. Premières statistiques descriptives*\n"
   ]
  },
  {
   "cell_type": "markdown",
   "metadata": {},
   "source": [
    "On affiche dans un premier temps les statistiques descriptives pour l'ensemble des variables sur toute la période considérée. "
   ]
  },
  {
   "cell_type": "code",
   "execution_count": 124,
   "metadata": {},
   "outputs": [
    {
     "data": {
      "text/html": [
       "<div>\n",
       "<style scoped>\n",
       "    .dataframe tbody tr th:only-of-type {\n",
       "        vertical-align: middle;\n",
       "    }\n",
       "\n",
       "    .dataframe tbody tr th {\n",
       "        vertical-align: top;\n",
       "    }\n",
       "\n",
       "    .dataframe thead th {\n",
       "        text-align: right;\n",
       "    }\n",
       "</style>\n",
       "<table border=\"1\" class=\"dataframe\">\n",
       "  <thead>\n",
       "    <tr style=\"text-align: right;\">\n",
       "      <th></th>\n",
       "      <th>amazon_stock_price</th>\n",
       "      <th>amazon_stock_volume</th>\n",
       "      <th>apple_stock_price</th>\n",
       "      <th>apple_stock_volume</th>\n",
       "      <th>google_stock_price</th>\n",
       "      <th>google_stock_volume</th>\n",
       "      <th>meta_stock_price</th>\n",
       "      <th>meta_stock_volume</th>\n",
       "      <th>microsoft_stock_price</th>\n",
       "      <th>microsoft_stock_volume</th>\n",
       "      <th>bitcoin_price</th>\n",
       "      <th>bitcoin_volume</th>\n",
       "      <th>ethereum_price</th>\n",
       "      <th>ethereum_volume</th>\n",
       "      <th>gold_price</th>\n",
       "      <th>gold_volume</th>\n",
       "      <th>s&amp;p500_price</th>\n",
       "      <th>s&amp;p500_volume</th>\n",
       "    </tr>\n",
       "  </thead>\n",
       "  <tbody>\n",
       "    <tr>\n",
       "      <th>count</th>\n",
       "      <td>299.000000</td>\n",
       "      <td>2.990000e+02</td>\n",
       "      <td>299.000000</td>\n",
       "      <td>2.990000e+02</td>\n",
       "      <td>299.000000</td>\n",
       "      <td>2.990000e+02</td>\n",
       "      <td>299.000000</td>\n",
       "      <td>2.990000e+02</td>\n",
       "      <td>299.000000</td>\n",
       "      <td>2.990000e+02</td>\n",
       "      <td>299.000000</td>\n",
       "      <td>2.990000e+02</td>\n",
       "      <td>299.000000</td>\n",
       "      <td>2.990000e+02</td>\n",
       "      <td>299.000000</td>\n",
       "      <td>299.000000</td>\n",
       "      <td>299.000000</td>\n",
       "      <td>2.990000e+02</td>\n",
       "    </tr>\n",
       "    <tr>\n",
       "      <th>mean</th>\n",
       "      <td>596.030870</td>\n",
       "      <td>2.338483e+08</td>\n",
       "      <td>174.491543</td>\n",
       "      <td>6.998301e+08</td>\n",
       "      <td>760.629023</td>\n",
       "      <td>1.979314e+08</td>\n",
       "      <td>177.585080</td>\n",
       "      <td>6.236496e+08</td>\n",
       "      <td>95.281551</td>\n",
       "      <td>9.467717e+08</td>\n",
       "      <td>17705.370867</td>\n",
       "      <td>5.175726e+11</td>\n",
       "      <td>1382.316098</td>\n",
       "      <td>3.549254e+11</td>\n",
       "      <td>1130.947491</td>\n",
       "      <td>86970.130202</td>\n",
       "      <td>2089.054264</td>\n",
       "      <td>7.019747e+10</td>\n",
       "    </tr>\n",
       "    <tr>\n",
       "      <th>std</th>\n",
       "      <td>926.010738</td>\n",
       "      <td>3.250052e+08</td>\n",
       "      <td>146.158314</td>\n",
       "      <td>5.723511e+08</td>\n",
       "      <td>556.747755</td>\n",
       "      <td>1.904352e+08</td>\n",
       "      <td>90.532894</td>\n",
       "      <td>2.539357e+08</td>\n",
       "      <td>106.370793</td>\n",
       "      <td>4.192055e+08</td>\n",
       "      <td>13593.217299</td>\n",
       "      <td>3.559801e+11</td>\n",
       "      <td>652.536490</td>\n",
       "      <td>1.561093e+11</td>\n",
       "      <td>583.686008</td>\n",
       "      <td>106398.638197</td>\n",
       "      <td>1218.513567</td>\n",
       "      <td>2.891918e+10</td>\n",
       "    </tr>\n",
       "    <tr>\n",
       "      <th>min</th>\n",
       "      <td>7.430000</td>\n",
       "      <td>4.346880e+07</td>\n",
       "      <td>13.835000</td>\n",
       "      <td>6.535520e+07</td>\n",
       "      <td>92.190000</td>\n",
       "      <td>2.304129e+07</td>\n",
       "      <td>20.240000</td>\n",
       "      <td>2.261357e+08</td>\n",
       "      <td>16.875000</td>\n",
       "      <td>3.423704e+08</td>\n",
       "      <td>238.188499</td>\n",
       "      <td>5.531023e+08</td>\n",
       "      <td>120.249294</td>\n",
       "      <td>4.445981e+10</td>\n",
       "      <td>261.949997</td>\n",
       "      <td>893.000000</td>\n",
       "      <td>749.884979</td>\n",
       "      <td>1.908910e+10</td>\n",
       "    </tr>\n",
       "    <tr>\n",
       "      <th>25%</th>\n",
       "      <td>46.572500</td>\n",
       "      <td>8.275704e+07</td>\n",
       "      <td>77.362500</td>\n",
       "      <td>2.987677e+08</td>\n",
       "      <td>453.977500</td>\n",
       "      <td>4.281145e+07</td>\n",
       "      <td>157.200000</td>\n",
       "      <td>5.049505e+08</td>\n",
       "      <td>27.612500</td>\n",
       "      <td>6.061426e+08</td>\n",
       "      <td>10764.107300</td>\n",
       "      <td>5.175726e+11</td>\n",
       "      <td>1382.316098</td>\n",
       "      <td>3.549254e+11</td>\n",
       "      <td>603.750000</td>\n",
       "      <td>9102.500000</td>\n",
       "      <td>1198.367462</td>\n",
       "      <td>4.829011e+10</td>\n",
       "    </tr>\n",
       "    <tr>\n",
       "      <th>50%</th>\n",
       "      <td>166.420000</td>\n",
       "      <td>1.333624e+08</td>\n",
       "      <td>140.775000</td>\n",
       "      <td>5.620912e+08</td>\n",
       "      <td>688.650000</td>\n",
       "      <td>1.458872e+08</td>\n",
       "      <td>177.585000</td>\n",
       "      <td>6.236496e+08</td>\n",
       "      <td>46.980000</td>\n",
       "      <td>8.593311e+08</td>\n",
       "      <td>17705.370867</td>\n",
       "      <td>5.175726e+11</td>\n",
       "      <td>1382.316098</td>\n",
       "      <td>3.549254e+11</td>\n",
       "      <td>1230.500000</td>\n",
       "      <td>19001.400000</td>\n",
       "      <td>1475.320007</td>\n",
       "      <td>7.561031e+10</td>\n",
       "    </tr>\n",
       "    <tr>\n",
       "      <th>75%</th>\n",
       "      <td>658.722500</td>\n",
       "      <td>1.916486e+08</td>\n",
       "      <td>204.112500</td>\n",
       "      <td>9.000309e+08</td>\n",
       "      <td>858.920000</td>\n",
       "      <td>2.303744e+08</td>\n",
       "      <td>177.585000</td>\n",
       "      <td>6.236496e+08</td>\n",
       "      <td>105.185000</td>\n",
       "      <td>1.272418e+09</td>\n",
       "      <td>17705.370867</td>\n",
       "      <td>5.175726e+11</td>\n",
       "      <td>1382.316098</td>\n",
       "      <td>3.549254e+11</td>\n",
       "      <td>1608.324982</td>\n",
       "      <td>157753.000000</td>\n",
       "      <td>2712.147522</td>\n",
       "      <td>8.618484e+10</td>\n",
       "    </tr>\n",
       "    <tr>\n",
       "      <th>max</th>\n",
       "      <td>3540.029000</td>\n",
       "      <td>2.035252e+09</td>\n",
       "      <td>680.535000</td>\n",
       "      <td>3.886793e+09</td>\n",
       "      <td>2925.680000</td>\n",
       "      <td>9.527097e+08</td>\n",
       "      <td>582.235000</td>\n",
       "      <td>2.032635e+09</td>\n",
       "      <td>440.280000</td>\n",
       "      <td>3.044579e+09</td>\n",
       "      <td>83229.574219</td>\n",
       "      <td>2.267153e+12</td>\n",
       "      <td>4412.605591</td>\n",
       "      <td>1.510330e+12</td>\n",
       "      <td>2695.750000</td>\n",
       "      <td>443701.000000</td>\n",
       "      <td>5870.339844</td>\n",
       "      <td>1.621854e+11</td>\n",
       "    </tr>\n",
       "  </tbody>\n",
       "</table>\n",
       "</div>"
      ],
      "text/plain": [
       "       amazon_stock_price  amazon_stock_volume  apple_stock_price  \\\n",
       "count          299.000000         2.990000e+02         299.000000   \n",
       "mean           596.030870         2.338483e+08         174.491543   \n",
       "std            926.010738         3.250052e+08         146.158314   \n",
       "min              7.430000         4.346880e+07          13.835000   \n",
       "25%             46.572500         8.275704e+07          77.362500   \n",
       "50%            166.420000         1.333624e+08         140.775000   \n",
       "75%            658.722500         1.916486e+08         204.112500   \n",
       "max           3540.029000         2.035252e+09         680.535000   \n",
       "\n",
       "       apple_stock_volume  google_stock_price  google_stock_volume  \\\n",
       "count        2.990000e+02          299.000000         2.990000e+02   \n",
       "mean         6.998301e+08          760.629023         1.979314e+08   \n",
       "std          5.723511e+08          556.747755         1.904352e+08   \n",
       "min          6.535520e+07           92.190000         2.304129e+07   \n",
       "25%          2.987677e+08          453.977500         4.281145e+07   \n",
       "50%          5.620912e+08          688.650000         1.458872e+08   \n",
       "75%          9.000309e+08          858.920000         2.303744e+08   \n",
       "max          3.886793e+09         2925.680000         9.527097e+08   \n",
       "\n",
       "       meta_stock_price  meta_stock_volume  microsoft_stock_price  \\\n",
       "count        299.000000       2.990000e+02             299.000000   \n",
       "mean         177.585080       6.236496e+08              95.281551   \n",
       "std           90.532894       2.539357e+08             106.370793   \n",
       "min           20.240000       2.261357e+08              16.875000   \n",
       "25%          157.200000       5.049505e+08              27.612500   \n",
       "50%          177.585000       6.236496e+08              46.980000   \n",
       "75%          177.585000       6.236496e+08             105.185000   \n",
       "max          582.235000       2.032635e+09             440.280000   \n",
       "\n",
       "       microsoft_stock_volume  bitcoin_price  bitcoin_volume  ethereum_price  \\\n",
       "count            2.990000e+02     299.000000    2.990000e+02      299.000000   \n",
       "mean             9.467717e+08   17705.370867    5.175726e+11     1382.316098   \n",
       "std              4.192055e+08   13593.217299    3.559801e+11      652.536490   \n",
       "min              3.423704e+08     238.188499    5.531023e+08      120.249294   \n",
       "25%              6.061426e+08   10764.107300    5.175726e+11     1382.316098   \n",
       "50%              8.593311e+08   17705.370867    5.175726e+11     1382.316098   \n",
       "75%              1.272418e+09   17705.370867    5.175726e+11     1382.316098   \n",
       "max              3.044579e+09   83229.574219    2.267153e+12     4412.605591   \n",
       "\n",
       "       ethereum_volume   gold_price    gold_volume  s&p500_price  \\\n",
       "count     2.990000e+02   299.000000     299.000000    299.000000   \n",
       "mean      3.549254e+11  1130.947491   86970.130202   2089.054264   \n",
       "std       1.561093e+11   583.686008  106398.638197   1218.513567   \n",
       "min       4.445981e+10   261.949997     893.000000    749.884979   \n",
       "25%       3.549254e+11   603.750000    9102.500000   1198.367462   \n",
       "50%       3.549254e+11  1230.500000   19001.400000   1475.320007   \n",
       "75%       3.549254e+11  1608.324982  157753.000000   2712.147522   \n",
       "max       1.510330e+12  2695.750000  443701.000000   5870.339844   \n",
       "\n",
       "       s&p500_volume  \n",
       "count   2.990000e+02  \n",
       "mean    7.019747e+10  \n",
       "std     2.891918e+10  \n",
       "min     1.908910e+10  \n",
       "25%     4.829011e+10  \n",
       "50%     7.561031e+10  \n",
       "75%     8.618484e+10  \n",
       "max     1.621854e+11  "
      ]
     },
     "execution_count": 124,
     "metadata": {},
     "output_type": "execute_result"
    }
   ],
   "source": [
    "final_df.describe()"
   ]
  },
  {
   "cell_type": "markdown",
   "metadata": {},
   "source": [
    "A noter que le premier mois pour lequel on a pu collecter les données sont:\n",
    "- Pour Google : 2004-09\n",
    "- Pour Meta : 2012-06\n",
    "- Pour l'Ethereum: 2017-12\n",
    "- Pour le Bitcoin: 2014-10\n",
    "- Pour l'or: 2000-09"
   ]
  },
  {
   "cell_type": "markdown",
   "metadata": {},
   "source": [
    "On effectue également l'analyse à partir du mois de décembre 2017 pour avoir les statistiques les plus récentes avec toutes les données disponibles."
   ]
  },
  {
   "cell_type": "code",
   "execution_count": 125,
   "metadata": {},
   "outputs": [
    {
     "data": {
      "text/html": [
       "<div>\n",
       "<style scoped>\n",
       "    .dataframe tbody tr th:only-of-type {\n",
       "        vertical-align: middle;\n",
       "    }\n",
       "\n",
       "    .dataframe tbody tr th {\n",
       "        vertical-align: top;\n",
       "    }\n",
       "\n",
       "    .dataframe thead th {\n",
       "        text-align: right;\n",
       "    }\n",
       "</style>\n",
       "<table border=\"1\" class=\"dataframe\">\n",
       "  <thead>\n",
       "    <tr style=\"text-align: right;\">\n",
       "      <th></th>\n",
       "      <th>amazon_stock_price</th>\n",
       "      <th>amazon_stock_volume</th>\n",
       "      <th>apple_stock_price</th>\n",
       "      <th>apple_stock_volume</th>\n",
       "      <th>google_stock_price</th>\n",
       "      <th>google_stock_volume</th>\n",
       "      <th>meta_stock_price</th>\n",
       "      <th>meta_stock_volume</th>\n",
       "      <th>microsoft_stock_price</th>\n",
       "      <th>microsoft_stock_volume</th>\n",
       "      <th>bitcoin_price</th>\n",
       "      <th>bitcoin_volume</th>\n",
       "      <th>ethereum_price</th>\n",
       "      <th>ethereum_volume</th>\n",
       "      <th>gold_price</th>\n",
       "      <th>gold_volume</th>\n",
       "      <th>s&amp;p500_price</th>\n",
       "      <th>s&amp;p500_volume</th>\n",
       "    </tr>\n",
       "  </thead>\n",
       "  <tbody>\n",
       "    <tr>\n",
       "      <th>count</th>\n",
       "      <td>84.000000</td>\n",
       "      <td>8.400000e+01</td>\n",
       "      <td>84.000000</td>\n",
       "      <td>8.400000e+01</td>\n",
       "      <td>84.000000</td>\n",
       "      <td>8.400000e+01</td>\n",
       "      <td>84.000000</td>\n",
       "      <td>8.400000e+01</td>\n",
       "      <td>84.000000</td>\n",
       "      <td>8.400000e+01</td>\n",
       "      <td>84.000000</td>\n",
       "      <td>8.400000e+01</td>\n",
       "      <td>84.000000</td>\n",
       "      <td>8.400000e+01</td>\n",
       "      <td>84.000000</td>\n",
       "      <td>84.00000</td>\n",
       "      <td>84.000000</td>\n",
       "      <td>8.400000e+01</td>\n",
       "    </tr>\n",
       "    <tr>\n",
       "      <th>mean</th>\n",
       "      <td>1594.253667</td>\n",
       "      <td>4.697608e+08</td>\n",
       "      <td>187.072438</td>\n",
       "      <td>1.282012e+09</td>\n",
       "      <td>1145.468440</td>\n",
       "      <td>2.387685e+08</td>\n",
       "      <td>259.706262</td>\n",
       "      <td>4.777404e+08</td>\n",
       "      <td>238.366378</td>\n",
       "      <td>5.961304e+08</td>\n",
       "      <td>27046.966609</td>\n",
       "      <td>8.010751e+11</td>\n",
       "      <td>1478.453297</td>\n",
       "      <td>3.909455e+11</td>\n",
       "      <td>1745.663167</td>\n",
       "      <td>107779.49145</td>\n",
       "      <td>3791.361604</td>\n",
       "      <td>8.687678e+10</td>\n",
       "    </tr>\n",
       "    <tr>\n",
       "      <th>std</th>\n",
       "      <td>1228.862564</td>\n",
       "      <td>5.396450e+08</td>\n",
       "      <td>52.987103</td>\n",
       "      <td>6.516978e+08</td>\n",
       "      <td>885.194366</td>\n",
       "      <td>2.874301e+08</td>\n",
       "      <td>112.895236</td>\n",
       "      <td>1.914812e+08</td>\n",
       "      <td>104.984100</td>\n",
       "      <td>1.768703e+08</td>\n",
       "      <td>20394.128314</td>\n",
       "      <td>4.773935e+11</td>\n",
       "      <td>1203.331925</td>\n",
       "      <td>2.759660e+11</td>\n",
       "      <td>348.589170</td>\n",
       "      <td>118724.77008</td>\n",
       "      <td>892.269236</td>\n",
       "      <td>1.591233e+10</td>\n",
       "    </tr>\n",
       "    <tr>\n",
       "      <th>min</th>\n",
       "      <td>89.460000</td>\n",
       "      <td>5.206047e+07</td>\n",
       "      <td>114.655000</td>\n",
       "      <td>3.938439e+08</td>\n",
       "      <td>92.190000</td>\n",
       "      <td>2.304129e+07</td>\n",
       "      <td>103.415000</td>\n",
       "      <td>2.261357e+08</td>\n",
       "      <td>84.099950</td>\n",
       "      <td>3.423704e+08</td>\n",
       "      <td>3750.340454</td>\n",
       "      <td>1.184369e+11</td>\n",
       "      <td>120.249294</td>\n",
       "      <td>4.445981e+10</td>\n",
       "      <td>1192.549988</td>\n",
       "      <td>4126.00000</td>\n",
       "      <td>2573.380005</td>\n",
       "      <td>6.303151e+10</td>\n",
       "    </tr>\n",
       "    <tr>\n",
       "      <th>25%</th>\n",
       "      <td>175.215000</td>\n",
       "      <td>7.801962e+07</td>\n",
       "      <td>149.620000</td>\n",
       "      <td>7.381035e+08</td>\n",
       "      <td>160.786750</td>\n",
       "      <td>3.362435e+07</td>\n",
       "      <td>179.716250</td>\n",
       "      <td>3.341730e+08</td>\n",
       "      <td>138.373750</td>\n",
       "      <td>4.801091e+08</td>\n",
       "      <td>9139.994873</td>\n",
       "      <td>4.686604e+11</td>\n",
       "      <td>278.960136</td>\n",
       "      <td>1.999103e+11</td>\n",
       "      <td>1403.262502</td>\n",
       "      <td>9281.75000</td>\n",
       "      <td>2913.869934</td>\n",
       "      <td>7.762015e+10</td>\n",
       "    </tr>\n",
       "    <tr>\n",
       "      <th>50%</th>\n",
       "      <td>1723.557500</td>\n",
       "      <td>1.144326e+08</td>\n",
       "      <td>174.112500</td>\n",
       "      <td>1.185673e+09</td>\n",
       "      <td>1167.820000</td>\n",
       "      <td>4.132788e+07</td>\n",
       "      <td>216.230000</td>\n",
       "      <td>4.400423e+08</td>\n",
       "      <td>236.045000</td>\n",
       "      <td>5.624099e+08</td>\n",
       "      <td>22068.976562</td>\n",
       "      <td>7.729387e+11</td>\n",
       "      <td>1430.734009</td>\n",
       "      <td>3.697663e+11</td>\n",
       "      <td>1793.075043</td>\n",
       "      <td>35064.50000</td>\n",
       "      <td>3874.002502</td>\n",
       "      <td>8.243948e+10</td>\n",
       "    </tr>\n",
       "    <tr>\n",
       "      <th>75%</th>\n",
       "      <td>2930.565000</td>\n",
       "      <td>9.361697e+08</td>\n",
       "      <td>207.103750</td>\n",
       "      <td>1.684877e+09</td>\n",
       "      <td>1559.839000</td>\n",
       "      <td>5.371061e+08</td>\n",
       "      <td>316.000750</td>\n",
       "      <td>5.534249e+08</td>\n",
       "      <td>310.186250</td>\n",
       "      <td>6.690356e+08</td>\n",
       "      <td>42547.661621</td>\n",
       "      <td>1.051473e+12</td>\n",
       "      <td>2369.349976</td>\n",
       "      <td>5.218055e+11</td>\n",
       "      <td>1935.687500</td>\n",
       "      <td>196233.00000</td>\n",
       "      <td>4393.913879</td>\n",
       "      <td>9.240001e+10</td>\n",
       "    </tr>\n",
       "    <tr>\n",
       "      <th>max</th>\n",
       "      <td>3540.029000</td>\n",
       "      <td>2.035252e+09</td>\n",
       "      <td>391.120000</td>\n",
       "      <td>3.886793e+09</td>\n",
       "      <td>2925.680000</td>\n",
       "      <td>9.527097e+08</td>\n",
       "      <td>582.235000</td>\n",
       "      <td>1.127891e+09</td>\n",
       "      <td>440.280000</td>\n",
       "      <td>1.612954e+09</td>\n",
       "      <td>83229.574219</td>\n",
       "      <td>2.267153e+12</td>\n",
       "      <td>4412.605591</td>\n",
       "      <td>1.510330e+12</td>\n",
       "      <td>2695.750000</td>\n",
       "      <td>443701.00000</td>\n",
       "      <td>5870.339844</td>\n",
       "      <td>1.621854e+11</td>\n",
       "    </tr>\n",
       "  </tbody>\n",
       "</table>\n",
       "</div>"
      ],
      "text/plain": [
       "       amazon_stock_price  amazon_stock_volume  apple_stock_price  \\\n",
       "count           84.000000         8.400000e+01          84.000000   \n",
       "mean          1594.253667         4.697608e+08         187.072438   \n",
       "std           1228.862564         5.396450e+08          52.987103   \n",
       "min             89.460000         5.206047e+07         114.655000   \n",
       "25%            175.215000         7.801962e+07         149.620000   \n",
       "50%           1723.557500         1.144326e+08         174.112500   \n",
       "75%           2930.565000         9.361697e+08         207.103750   \n",
       "max           3540.029000         2.035252e+09         391.120000   \n",
       "\n",
       "       apple_stock_volume  google_stock_price  google_stock_volume  \\\n",
       "count        8.400000e+01           84.000000         8.400000e+01   \n",
       "mean         1.282012e+09         1145.468440         2.387685e+08   \n",
       "std          6.516978e+08          885.194366         2.874301e+08   \n",
       "min          3.938439e+08           92.190000         2.304129e+07   \n",
       "25%          7.381035e+08          160.786750         3.362435e+07   \n",
       "50%          1.185673e+09         1167.820000         4.132788e+07   \n",
       "75%          1.684877e+09         1559.839000         5.371061e+08   \n",
       "max          3.886793e+09         2925.680000         9.527097e+08   \n",
       "\n",
       "       meta_stock_price  meta_stock_volume  microsoft_stock_price  \\\n",
       "count         84.000000       8.400000e+01              84.000000   \n",
       "mean         259.706262       4.777404e+08             238.366378   \n",
       "std          112.895236       1.914812e+08             104.984100   \n",
       "min          103.415000       2.261357e+08              84.099950   \n",
       "25%          179.716250       3.341730e+08             138.373750   \n",
       "50%          216.230000       4.400423e+08             236.045000   \n",
       "75%          316.000750       5.534249e+08             310.186250   \n",
       "max          582.235000       1.127891e+09             440.280000   \n",
       "\n",
       "       microsoft_stock_volume  bitcoin_price  bitcoin_volume  ethereum_price  \\\n",
       "count            8.400000e+01      84.000000    8.400000e+01       84.000000   \n",
       "mean             5.961304e+08   27046.966609    8.010751e+11     1478.453297   \n",
       "std              1.768703e+08   20394.128314    4.773935e+11     1203.331925   \n",
       "min              3.423704e+08    3750.340454    1.184369e+11      120.249294   \n",
       "25%              4.801091e+08    9139.994873    4.686604e+11      278.960136   \n",
       "50%              5.624099e+08   22068.976562    7.729387e+11     1430.734009   \n",
       "75%              6.690356e+08   42547.661621    1.051473e+12     2369.349976   \n",
       "max              1.612954e+09   83229.574219    2.267153e+12     4412.605591   \n",
       "\n",
       "       ethereum_volume   gold_price   gold_volume  s&p500_price  s&p500_volume  \n",
       "count     8.400000e+01    84.000000      84.00000     84.000000   8.400000e+01  \n",
       "mean      3.909455e+11  1745.663167  107779.49145   3791.361604   8.687678e+10  \n",
       "std       2.759660e+11   348.589170  118724.77008    892.269236   1.591233e+10  \n",
       "min       4.445981e+10  1192.549988    4126.00000   2573.380005   6.303151e+10  \n",
       "25%       1.999103e+11  1403.262502    9281.75000   2913.869934   7.762015e+10  \n",
       "50%       3.697663e+11  1793.075043   35064.50000   3874.002502   8.243948e+10  \n",
       "75%       5.218055e+11  1935.687500  196233.00000   4393.913879   9.240001e+10  \n",
       "max       1.510330e+12  2695.750000  443701.00000   5870.339844   1.621854e+11  "
      ]
     },
     "execution_count": 125,
     "metadata": {},
     "output_type": "execute_result"
    }
   ],
   "source": [
    "# Filtrage des données postérieures à décembre 2017\n",
    "latest_data = final_df[final_df['year_month'] >= '2017-12']\n",
    "\n",
    "# Statistiques descriptives sur les données les plus récentes \n",
    "latest_data.describe()"
   ]
  },
  {
   "cell_type": "markdown",
   "metadata": {},
   "source": [
    "On remarque que les actions Amazon, Google et Meta, Microsoft ainsi que le Bitcoin et l'or ont connu leur maximum historique entre fin 2017 et 2024. Google a également atteint son prix minimal pendant la période la plus récente. Pour toutes les autres actions et pour l'or et les cryptomonnaies créées avant 2017, le prix minimum a été atteint avant décembre 2017. On observe donc une tendance de décalage vers le haut du prix minimal. Pour le Bitcoin, on remarque que le prix minimal sur la période récente (20394.128314$) est bien supérieur à celui sur la période antérieure à décembre 2017 (238.188499$), ce qui montre l'attrait croissant pour la détention pour le Bitcoin au fil des années. "
   ]
  },
  {
   "cell_type": "markdown",
   "metadata": {},
   "source": [
    "*1.3. Premières représentations graphiques*"
   ]
  },
  {
   "cell_type": "markdown",
   "metadata": {},
   "source": [
    "On représente dans un premier temps le prix des différentes cryptomonnaies et de l'or depuis décembre 2017."
   ]
  },
  {
   "cell_type": "code",
   "execution_count": 126,
   "metadata": {},
   "outputs": [
    {
     "name": "stdout",
     "output_type": "stream",
     "text": [
      "Le type de 'year_month' est : period[M]\n"
     ]
    }
   ],
   "source": [
    "column_type = latest_data['year_month'].dtype\n",
    "print(f\"Le type de 'year_month' est : {column_type}\")"
   ]
  },
  {
   "cell_type": "code",
   "execution_count": 127,
   "metadata": {},
   "outputs": [
    {
     "name": "stderr",
     "output_type": "stream",
     "text": [
      "/tmp/ipykernel_13801/2238360883.py:1: SettingWithCopyWarning: \n",
      "A value is trying to be set on a copy of a slice from a DataFrame.\n",
      "Try using .loc[row_indexer,col_indexer] = value instead\n",
      "\n",
      "See the caveats in the documentation: https://pandas.pydata.org/pandas-docs/stable/user_guide/indexing.html#returning-a-view-versus-a-copy\n",
      "  latest_data['year_month'] = latest_data['year_month'].dt.to_timestamp()\n"
     ]
    }
   ],
   "source": [
    "latest_data['year_month'] = latest_data['year_month'].dt.to_timestamp()"
   ]
  },
  {
   "cell_type": "code",
   "execution_count": 128,
   "metadata": {},
   "outputs": [],
   "source": [
    "# Fonction pour déterminer le mois où une variable a atteint son maximum historique \n",
    "def get_month_with_max_price(dataframe, price_column, date_column='year_month'):\n",
    "    \"\"\"\n",
    "    Retourne le mois où une colonne de prix atteint sa valeur maximale.\n",
    "    \n",
    "    Args:\n",
    "        dataframe (pd.DataFrame): Le DataFrame contenant les données.\n",
    "        price_column (str): Le nom de la colonne de prix.\n",
    "        date_column (str): Le nom de la colonne de date, par défaut 'year_month'.\n",
    "    \n",
    "    Returns:\n",
    "        str: La valeur de la colonne de date correspondant au prix maximal.\n",
    "    \"\"\"\n",
    "    max_price_row = dataframe[dataframe[price_column] == dataframe[price_column].max()]\n",
    "    if not max_price_row.empty:\n",
    "        return max_price_row[date_column].values[0]\n",
    "    return None"
   ]
  },
  {
   "cell_type": "code",
   "execution_count": 129,
   "metadata": {},
   "outputs": [
    {
     "data": {
      "image/png": "[encoded data removed]",
      "text/plain": [
       "<Figure size 1000x600 with 1 Axes>"
      ]
     },
     "metadata": {},
     "output_type": "display_data"
    }
   ],
   "source": [
    "plt.figure(figsize=(10, 6))\n",
    "plt.plot(latest_data['year_month'], latest_data['bitcoin_price'], label='Prix du Bitcoin', marker='o')  # Courbe pour le Bitcoin\n",
    "plt.plot(latest_data['year_month'], latest_data['ethereum_price'], label=\"Prix de l'Ethereum\", marker='s')  # Courbe pour l'Ethereum\n",
    "plt.plot(latest_data['year_month'], latest_data['gold_price'], label=\"Prix de l'or\", marker='^')  # Courbe pour l'or\n",
    "plt.title(\"Evolution du prix de l'or et des cryptomonnaies entre fin 2017 et fin 2024\")\n",
    "plt.xlabel('Année')  \n",
    "plt.ylabel('Prix')\n",
    "plt.legend()  \n",
    "plt.grid(True)  \n",
    "plt.show()"
   ]
  },
  {
   "cell_type": "code",
   "execution_count": 130,
   "metadata": {},
   "outputs": [
    {
     "data": {
      "text/plain": [
       "Period('2024-10', 'M')"
      ]
     },
     "execution_count": 130,
     "metadata": {},
     "output_type": "execute_result"
    }
   ],
   "source": [
    "# On détermine le mois où l'Ethereum a atteint son maximum historique\n",
    "get_month_with_max_price(final_df,'gold_price')"
   ]
  },
  {
   "cell_type": "markdown",
   "metadata": {},
   "source": [
    "On observe graphiquement une forte volatilité du Bitcoin. Les tendances haussières ou baissières sont nombreuses et n'apparaissent pas durables sur le moyen terme. En 2021 par exemple, la tendance s'est ainsi inversée trois fois, avec deux périodes de forte hausse et deux périodes de forte baisse. Le cours du Bitcoin a atteint son maximum historique en octobre 2024 avec un cours de 83229.574219$.  "
   ]
  },
  {
   "cell_type": "markdown",
   "metadata": {},
   "source": [
    "Dans un objectif de lisibilité, on trace un graphique avec seulement l'or et l'Ethereum pour mieux rendre compte graphiquement des variations du prix."
   ]
  },
  {
   "cell_type": "code",
   "execution_count": 131,
   "metadata": {},
   "outputs": [
    {
     "data": {
      "image/png": "[encoded data removed]",
      "text/plain": [
       "<Figure size 1000x600 with 1 Axes>"
      ]
     },
     "metadata": {},
     "output_type": "display_data"
    }
   ],
   "source": [
    "plt.figure(figsize=(10, 6))\n",
    "plt.plot(latest_data['year_month'], latest_data['ethereum_price'], label=\"Prix de l'Ethereum\", marker='s')  # Courbe pour l'Ethereum\n",
    "plt.plot(latest_data['year_month'], latest_data['gold_price'], label=\"Prix de l'or\", marker='^')  # Courbe pour l'or\n",
    "plt.title(\"Evolution du prix de l'or et de l'Ethereum entre fin 2017 et fin 2024\")\n",
    "plt.xlabel('Année')  \n",
    "plt.ylabel('Prix')\n",
    "plt.legend() \n",
    "plt.grid(True)  \n",
    "plt.show()"
   ]
  },
  {
   "cell_type": "code",
   "execution_count": 132,
   "metadata": {},
   "outputs": [
    {
     "data": {
      "text/plain": [
       "Period('2021-11', 'M')"
      ]
     },
     "execution_count": 132,
     "metadata": {},
     "output_type": "execute_result"
    }
   ],
   "source": [
    "# On détermine le mois où l'Ethereum a atteint son maximum historique\n",
    "get_month_with_max_price(final_df,'ethereum_price')"
   ]
  },
  {
   "cell_type": "markdown",
   "metadata": {},
   "source": [
    "On remarque que le cours de l'Ethereum connaît de fortes variations sur la période considérée, avec une forte augmentation à partit de fin 2021 et un pic historique en novembre 2021. Le cours de l'or apparaît plus stable dans le temps, avec de faibles variations sur le court terme, avec une tendance haussière globale. "
   ]
  },
  {
   "cell_type": "markdown",
   "metadata": {},
   "source": [
    "2. Analyse des relations entre l'or, les cryptomonnaies et différentes variables \n",
    "\n",
    "*2.1. Corrélation entre les rendements de l'or, des cryptomonnaies et du marché boursier*"
   ]
  },
  {
   "cell_type": "markdown",
   "metadata": {},
   "source": [
    "Les travaux de Baur et Lucey (2010) et de Baur et McDermott (2010) montrent que l'or est une valeur refuge si la corrélation entre les rendements des indices boursiers et ceux de l'or est négative ou nulle pendant les crises. On cherche alors à vérifier si cette condition est respectée pour l'or pour la période de la crise de 2008 et de la crise du COVID-19. Par extension, on examine également les résultats pour les cryptomonnaies pour la période de la crise du COVID-19. "
   ]
  },
  {
   "cell_type": "code",
   "execution_count": 133,
   "metadata": {},
   "outputs": [],
   "source": [
    "# Ajout d'une colonne avec les rendements de l'or et des cryptomonnaies dans final_df\n",
    "final_df['gold_returns'] = final_df['gold_price'].pct_change()\n",
    "final_df['bitcoin_returns'] = final_df['bitcoin_price'].pct_change()\n",
    "final_df['ethereum_returns'] = final_df['ethereum_price'].pct_change()\n",
    "final_df['s&p500_returns'] = final_df['s&p500_price'].pct_change()"
   ]
  },
  {
   "cell_type": "markdown",
   "metadata": {},
   "source": [
    "On étudie la corrélation entre les rendements de l'or, des cryptomonnaies et du marché boursier pendant la crise du Covid-19. "
   ]
  },
  {
   "cell_type": "code",
   "execution_count": 134,
   "metadata": {},
   "outputs": [
    {
     "data": {
      "image/png": "[encoded data removed]",
      "text/plain": [
       "<Figure size 640x480 with 2 Axes>"
      ]
     },
     "metadata": {},
     "output_type": "display_data"
    }
   ],
   "source": [
    "# Définir la période de crise COVID-19 (mars 2020 à décembre 2021)\n",
    "crisis_covid_df = final_df[(final_df['year_month'] >= '2020-02') & (final_df['year_month'] <= '2020-12')]\n",
    "# Matrice de corrélation\n",
    "correlation_matrix_covid = crisis_covid_df[['gold_returns', 'bitcoin_returns', 'ethereum_returns', 's&p500_returns']].corr()\n",
    "sns.heatmap(correlation_matrix_covid, annot=True, cmap='coolwarm', fmt='.2f')\n",
    "plt.title(\"Matrice de corrélation entre les rendements de l'or, des cryptomonnaies et du marché boursier (COVID-19)\")\n",
    "plt.show()"
   ]
  },
  {
   "cell_type": "markdown",
   "metadata": {},
   "source": [
    "On observe pendant la crise du COVID-19 une corrélation négative entre les rendements de l'indice du S&P 500 et ceux de l'or, -0.3 étant toutefois plus proche de 0 que de la corrélation négative parfaite, -1. Les rendements du bitcoin et de l'ethereum sont corrélés positivement à ceux de l'indice du S&P 500. une baisse des rendements sur le marché boursier a donc tendance a priori à faire augmenter les rendements de l'or et à faire baisser ceux des cryptomonnaies. "
   ]
  },
  {
   "cell_type": "code",
   "execution_count": 135,
   "metadata": {},
   "outputs": [
    {
     "data": {
      "image/png": "[encoded data removed]",
      "text/plain": [
       "<Figure size 640x480 with 2 Axes>"
      ]
     },
     "metadata": {},
     "output_type": "display_data"
    }
   ],
   "source": [
    "# Définir la période de crise de 2008 (janvier 2008 à décembre 2009)\n",
    "crisis_2008_df = final_df[(final_df['year_month'] >= '2008-01') & (final_df['year_month'] <= '2009-12')]\n",
    "# Matrice de corrélation\n",
    "correlation_matrix_2008 = crisis_2008_df[['gold_returns', 's&p500_returns']].corr()\n",
    "sns.heatmap(correlation_matrix_2008, annot=True, cmap='coolwarm', fmt='.2f')\n",
    "plt.title(\"Matrice de corrélation entre l'or et le marché boursier pendant la crise de 2008\")\n",
    "plt.show()"
   ]
  },
  {
   "cell_type": "markdown",
   "metadata": {},
   "source": [
    "On observe pendant la crise de 2008 une corrélation négative très proche de 0 entre les rendements de l'or et ceux de l'indice du S&P 500.\n",
    "\n",
    "Cette première analyse à l'aide des matrices de corrélation des rendements des différents actifs en période de crise montre que l'or peut sous cette approche être considérée comme un valeur refuge, contrairement aux cryptomonnaies. "
   ]
  },
  {
   "cell_type": "markdown",
   "metadata": {},
   "source": [
    "*2.2. Relation entre volume échangé et prix*\n",
    "\n",
    "L'objectif est d'identifier si les volumes échangés influencent les prix."
   ]
  },
  {
   "cell_type": "code",
   "execution_count": 136,
   "metadata": {},
   "outputs": [
    {
     "data": {
      "image/png": "[encoded data removed]",
      "text/plain": [
       "<Figure size 1200x600 with 1 Axes>"
      ]
     },
     "metadata": {},
     "output_type": "display_data"
    }
   ],
   "source": [
    "plt.figure(figsize=(12, 6))\n",
    "plt.scatter(final_df['gold_volume'], final_df['gold_price'], label=\"Or\", alpha=0.6, color='gold')\n",
    "plt.title(\"Relation entre volume échangé et prix pour l'or\")\n",
    "plt.xlabel(\"Volume échangé\")\n",
    "plt.ylabel(\"Prix\")\n",
    "plt.legend()\n",
    "plt.grid(True)\n",
    "plt.show()"
   ]
  },
  {
   "cell_type": "code",
   "execution_count": 137,
   "metadata": {},
   "outputs": [
    {
     "data": {
      "image/png": "[encoded data removed]",
      "text/plain": [
       "<Figure size 1200x600 with 1 Axes>"
      ]
     },
     "metadata": {},
     "output_type": "display_data"
    }
   ],
   "source": [
    "plt.figure(figsize=(12, 6))\n",
    "plt.scatter(final_df['ethereum_volume'], final_df['ethereum_price'], label=\"Ethereum\", alpha=0.6, color='blue')\n",
    "plt.title(\"Relation entre volume échangé et prix pour l'Ethereum\")\n",
    "plt.xlabel(\"Volume échangé\")\n",
    "plt.ylabel(\"Prix\")\n",
    "plt.legend()\n",
    "plt.grid(True)\n",
    "plt.show()"
   ]
  },
  {
   "cell_type": "code",
   "execution_count": 138,
   "metadata": {},
   "outputs": [
    {
     "data": {
      "image/png": "[encoded data removed]",
      "text/plain": [
       "<Figure size 1200x600 with 1 Axes>"
      ]
     },
     "metadata": {},
     "output_type": "display_data"
    }
   ],
   "source": [
    "plt.figure(figsize=(12, 6))\n",
    "plt.scatter(final_df['bitcoin_volume'], final_df['bitcoin_price'], label=\"Bitcoin\", alpha=0.6, color='orange')\n",
    "plt.title(\"Relation entre volume échangé et prix pour le Bitcoin\")\n",
    "plt.xlabel(\"Volume échangé\")\n",
    "plt.ylabel(\"Prix\")\n",
    "plt.legend()\n",
    "plt.grid(True)\n",
    "plt.show()"
   ]
  },
  {
   "cell_type": "markdown",
   "metadata": {},
   "source": [
    "On observe une forte dispersion entre volume échangé et prix pour l'or et les cryptomonnaies étudiées. Ainsi, le volume échangé ne semble pas influencer de manière prévisible le prix de ces actifs. D'autres facteurs sont en jeu. Dans le cas des actifs comme les cryptomonnaies, on peut faire l'hypothèse que cette dispersion signifie que le marché est dominé par des comportements spéculatifs. L'or étant un actif très liquide, cette dispersion peut signifier que même des volumes d'échanges élevés n'ont pas un impact direct ou visible sur le prix."
   ]
  },
  {
   "cell_type": "markdown",
   "metadata": {},
   "source": [
    "3. Analyse de la volatilité et de la performance des actifs\n",
    "\n",
    "On fait l'hypothèse qu'une valeur refuge est peu volatile et reste toujours relativement performante, surtout en période de crise lorsque le cours des autres actifs a tendance à fortement baisser. \n",
    "\n",
    "\n",
    "*3.1. Boxplot sur la volatilité des rendements de l'or et des crytptomonnaies sur toute la période*"
   ]
  },
  {
   "cell_type": "code",
   "execution_count": 139,
   "metadata": {},
   "outputs": [
    {
     "name": "stderr",
     "output_type": "stream",
     "text": [
      "/tmp/ipykernel_13801/40012584.py:2: MatplotlibDeprecationWarning: The 'labels' parameter of boxplot() has been renamed 'tick_labels' since Matplotlib 3.9; support for the old name will be dropped in 3.11.\n",
      "  plt.boxplot([final_df['gold_returns'].dropna(),\n"
     ]
    },
    {
     "data": {
      "image/png": "[encoded data removed]",
      "text/plain": [
       "<Figure size 1200x600 with 1 Axes>"
      ]
     },
     "metadata": {},
     "output_type": "display_data"
    }
   ],
   "source": [
    "plt.figure(figsize=(12, 6))\n",
    "plt.boxplot([final_df['gold_returns'].dropna(), \n",
    "             final_df['bitcoin_returns'].dropna(), \n",
    "             final_df['ethereum_returns'].dropna()],\n",
    "            labels=[\"Or\", \"Bitcoin\", \"Ethereum\"])\n",
    "plt.title(\"Volatilité des rendements de l'or et des cryptomonnaies\")\n",
    "plt.ylabel(\"Rendements\")\n",
    "plt.grid(True)\n",
    "plt.show()"
   ]
  },
  {
   "cell_type": "markdown",
   "metadata": {},
   "source": [
    "La médiane pour les trois actifs est proche de zéro, ce qui suggère qu'on observe a une distribution symétrique des rendements. Les cryptomonnaies sont plus volatiles que l'or, avec une large dispersion des rendements et une présence importante de valeurs aberrantes, signe d'une forte variabilité des rendements."
   ]
  },
  {
   "cell_type": "markdown",
   "metadata": {},
   "source": [
    "*3.2. Performance des actifs financiers en période de crise*\n",
    "\n",
    "On choisit de comparer la performance de l'or et des cryptomonnaies pendant la crise de 2020. "
   ]
  },
  {
   "cell_type": "code",
   "execution_count": 140,
   "metadata": {},
   "outputs": [
    {
     "ename": "TypeError",
     "evalue": "float() argument must be a string or a real number, not 'Period'",
     "output_type": "error",
     "traceback": [
      "\u001b[0;31m---------------------------------------------------------------------------\u001b[0m",
      "\u001b[0;31mTypeError\u001b[0m                                 Traceback (most recent call last)",
      "Cell \u001b[0;32mIn[140], line 2\u001b[0m\n\u001b[1;32m      1\u001b[0m plt\u001b[38;5;241m.\u001b[39mfigure(figsize\u001b[38;5;241m=\u001b[39m(\u001b[38;5;241m12\u001b[39m, \u001b[38;5;241m6\u001b[39m))\n\u001b[0;32m----> 2\u001b[0m \u001b[43mplt\u001b[49m\u001b[38;5;241;43m.\u001b[39;49m\u001b[43mplot\u001b[49m\u001b[43m(\u001b[49m\u001b[43mcrisis_covid_df\u001b[49m\u001b[43m[\u001b[49m\u001b[38;5;124;43m'\u001b[39;49m\u001b[38;5;124;43myear_month\u001b[39;49m\u001b[38;5;124;43m'\u001b[39;49m\u001b[43m]\u001b[49m\u001b[43m,\u001b[49m\u001b[43m \u001b[49m\u001b[43mcrisis_covid_df\u001b[49m\u001b[43m[\u001b[49m\u001b[38;5;124;43m'\u001b[39;49m\u001b[38;5;124;43mgold_price\u001b[39;49m\u001b[38;5;124;43m'\u001b[39;49m\u001b[43m]\u001b[49m\u001b[43m,\u001b[49m\u001b[43m \u001b[49m\u001b[43mlabel\u001b[49m\u001b[38;5;241;43m=\u001b[39;49m\u001b[38;5;124;43m\"\u001b[39;49m\u001b[38;5;124;43mPrix de l\u001b[39;49m\u001b[38;5;124;43m'\u001b[39;49m\u001b[38;5;124;43mOr\u001b[39;49m\u001b[38;5;124;43m\"\u001b[39;49m\u001b[43m,\u001b[49m\u001b[43m \u001b[49m\u001b[43mcolor\u001b[49m\u001b[38;5;241;43m=\u001b[39;49m\u001b[38;5;124;43m'\u001b[39;49m\u001b[38;5;124;43mgold\u001b[39;49m\u001b[38;5;124;43m'\u001b[39;49m\u001b[43m)\u001b[49m\n\u001b[1;32m      3\u001b[0m plt\u001b[38;5;241m.\u001b[39mplot(crisis_covid_df[\u001b[38;5;124m'\u001b[39m\u001b[38;5;124myear_month\u001b[39m\u001b[38;5;124m'\u001b[39m], crisis_covid_df[\u001b[38;5;124m'\u001b[39m\u001b[38;5;124methereum_price\u001b[39m\u001b[38;5;124m'\u001b[39m], label\u001b[38;5;241m=\u001b[39m\u001b[38;5;124m\"\u001b[39m\u001b[38;5;124mPrix de l\u001b[39m\u001b[38;5;124m'\u001b[39m\u001b[38;5;124mEthereum\u001b[39m\u001b[38;5;124m\"\u001b[39m, color\u001b[38;5;241m=\u001b[39m\u001b[38;5;124m'\u001b[39m\u001b[38;5;124mblue\u001b[39m\u001b[38;5;124m'\u001b[39m)\n\u001b[1;32m      4\u001b[0m plt\u001b[38;5;241m.\u001b[39mtitle(\u001b[38;5;124m\"\u001b[39m\u001b[38;5;124mEvolution du prix de l\u001b[39m\u001b[38;5;124m'\u001b[39m\u001b[38;5;124mor et de l\u001b[39m\u001b[38;5;124m'\u001b[39m\u001b[38;5;124mEthereum pendant la crise du COVID-19\u001b[39m\u001b[38;5;124m\"\u001b[39m)\n",
      "File \u001b[0;32m/opt/conda/lib/python3.12/site-packages/matplotlib/pyplot.py:3829\u001b[0m, in \u001b[0;36mplot\u001b[0;34m(scalex, scaley, data, *args, **kwargs)\u001b[0m\n\u001b[1;32m   3821\u001b[0m \u001b[38;5;129m@_copy_docstring_and_deprecators\u001b[39m(Axes\u001b[38;5;241m.\u001b[39mplot)\n\u001b[1;32m   3822\u001b[0m \u001b[38;5;28;01mdef\u001b[39;00m \u001b[38;5;21mplot\u001b[39m(\n\u001b[1;32m   3823\u001b[0m     \u001b[38;5;241m*\u001b[39margs: \u001b[38;5;28mfloat\u001b[39m \u001b[38;5;241m|\u001b[39m ArrayLike \u001b[38;5;241m|\u001b[39m \u001b[38;5;28mstr\u001b[39m,\n\u001b[0;32m   (...)\u001b[0m\n\u001b[1;32m   3827\u001b[0m     \u001b[38;5;241m*\u001b[39m\u001b[38;5;241m*\u001b[39mkwargs,\n\u001b[1;32m   3828\u001b[0m ) \u001b[38;5;241m-\u001b[39m\u001b[38;5;241m>\u001b[39m \u001b[38;5;28mlist\u001b[39m[Line2D]:\n\u001b[0;32m-> 3829\u001b[0m     \u001b[38;5;28;01mreturn\u001b[39;00m \u001b[43mgca\u001b[49m\u001b[43m(\u001b[49m\u001b[43m)\u001b[49m\u001b[38;5;241;43m.\u001b[39;49m\u001b[43mplot\u001b[49m\u001b[43m(\u001b[49m\n\u001b[1;32m   3830\u001b[0m \u001b[43m        \u001b[49m\u001b[38;5;241;43m*\u001b[39;49m\u001b[43margs\u001b[49m\u001b[43m,\u001b[49m\n\u001b[1;32m   3831\u001b[0m \u001b[43m        \u001b[49m\u001b[43mscalex\u001b[49m\u001b[38;5;241;43m=\u001b[39;49m\u001b[43mscalex\u001b[49m\u001b[43m,\u001b[49m\n\u001b[1;32m   3832\u001b[0m \u001b[43m        \u001b[49m\u001b[43mscaley\u001b[49m\u001b[38;5;241;43m=\u001b[39;49m\u001b[43mscaley\u001b[49m\u001b[43m,\u001b[49m\n\u001b[1;32m   3833\u001b[0m \u001b[43m        \u001b[49m\u001b[38;5;241;43m*\u001b[39;49m\u001b[38;5;241;43m*\u001b[39;49m\u001b[43m(\u001b[49m\u001b[43m{\u001b[49m\u001b[38;5;124;43m\"\u001b[39;49m\u001b[38;5;124;43mdata\u001b[39;49m\u001b[38;5;124;43m\"\u001b[39;49m\u001b[43m:\u001b[49m\u001b[43m \u001b[49m\u001b[43mdata\u001b[49m\u001b[43m}\u001b[49m\u001b[43m \u001b[49m\u001b[38;5;28;43;01mif\u001b[39;49;00m\u001b[43m \u001b[49m\u001b[43mdata\u001b[49m\u001b[43m \u001b[49m\u001b[38;5;129;43;01mis\u001b[39;49;00m\u001b[43m \u001b[49m\u001b[38;5;129;43;01mnot\u001b[39;49;00m\u001b[43m \u001b[49m\u001b[38;5;28;43;01mNone\u001b[39;49;00m\u001b[43m \u001b[49m\u001b[38;5;28;43;01melse\u001b[39;49;00m\u001b[43m \u001b[49m\u001b[43m{\u001b[49m\u001b[43m}\u001b[49m\u001b[43m)\u001b[49m\u001b[43m,\u001b[49m\n\u001b[1;32m   3834\u001b[0m \u001b[43m        \u001b[49m\u001b[38;5;241;43m*\u001b[39;49m\u001b[38;5;241;43m*\u001b[39;49m\u001b[43mkwargs\u001b[49m\u001b[43m,\u001b[49m\n\u001b[1;32m   3835\u001b[0m \u001b[43m    \u001b[49m\u001b[43m)\u001b[49m\n",
      "File \u001b[0;32m/opt/conda/lib/python3.12/site-packages/matplotlib/axes/_axes.py:1779\u001b[0m, in \u001b[0;36mAxes.plot\u001b[0;34m(self, scalex, scaley, data, *args, **kwargs)\u001b[0m\n\u001b[1;32m   1777\u001b[0m lines \u001b[38;5;241m=\u001b[39m [\u001b[38;5;241m*\u001b[39m\u001b[38;5;28mself\u001b[39m\u001b[38;5;241m.\u001b[39m_get_lines(\u001b[38;5;28mself\u001b[39m, \u001b[38;5;241m*\u001b[39margs, data\u001b[38;5;241m=\u001b[39mdata, \u001b[38;5;241m*\u001b[39m\u001b[38;5;241m*\u001b[39mkwargs)]\n\u001b[1;32m   1778\u001b[0m \u001b[38;5;28;01mfor\u001b[39;00m line \u001b[38;5;129;01min\u001b[39;00m lines:\n\u001b[0;32m-> 1779\u001b[0m     \u001b[38;5;28;43mself\u001b[39;49m\u001b[38;5;241;43m.\u001b[39;49m\u001b[43madd_line\u001b[49m\u001b[43m(\u001b[49m\u001b[43mline\u001b[49m\u001b[43m)\u001b[49m\n\u001b[1;32m   1780\u001b[0m \u001b[38;5;28;01mif\u001b[39;00m scalex:\n\u001b[1;32m   1781\u001b[0m     \u001b[38;5;28mself\u001b[39m\u001b[38;5;241m.\u001b[39m_request_autoscale_view(\u001b[38;5;124m\"\u001b[39m\u001b[38;5;124mx\u001b[39m\u001b[38;5;124m\"\u001b[39m)\n",
      "File \u001b[0;32m/opt/conda/lib/python3.12/site-packages/matplotlib/axes/_base.py:2371\u001b[0m, in \u001b[0;36m_AxesBase.add_line\u001b[0;34m(self, line)\u001b[0m\n\u001b[1;32m   2368\u001b[0m \u001b[38;5;28;01mif\u001b[39;00m line\u001b[38;5;241m.\u001b[39mget_clip_path() \u001b[38;5;129;01mis\u001b[39;00m \u001b[38;5;28;01mNone\u001b[39;00m:\n\u001b[1;32m   2369\u001b[0m     line\u001b[38;5;241m.\u001b[39mset_clip_path(\u001b[38;5;28mself\u001b[39m\u001b[38;5;241m.\u001b[39mpatch)\n\u001b[0;32m-> 2371\u001b[0m \u001b[38;5;28;43mself\u001b[39;49m\u001b[38;5;241;43m.\u001b[39;49m\u001b[43m_update_line_limits\u001b[49m\u001b[43m(\u001b[49m\u001b[43mline\u001b[49m\u001b[43m)\u001b[49m\n\u001b[1;32m   2372\u001b[0m \u001b[38;5;28;01mif\u001b[39;00m \u001b[38;5;129;01mnot\u001b[39;00m line\u001b[38;5;241m.\u001b[39mget_label():\n\u001b[1;32m   2373\u001b[0m     line\u001b[38;5;241m.\u001b[39mset_label(\u001b[38;5;124mf\u001b[39m\u001b[38;5;124m'\u001b[39m\u001b[38;5;124m_child\u001b[39m\u001b[38;5;132;01m{\u001b[39;00m\u001b[38;5;28mlen\u001b[39m(\u001b[38;5;28mself\u001b[39m\u001b[38;5;241m.\u001b[39m_children)\u001b[38;5;132;01m}\u001b[39;00m\u001b[38;5;124m'\u001b[39m)\n",
      "File \u001b[0;32m/opt/conda/lib/python3.12/site-packages/matplotlib/axes/_base.py:2394\u001b[0m, in \u001b[0;36m_AxesBase._update_line_limits\u001b[0;34m(self, line)\u001b[0m\n\u001b[1;32m   2390\u001b[0m \u001b[38;5;28;01mdef\u001b[39;00m \u001b[38;5;21m_update_line_limits\u001b[39m(\u001b[38;5;28mself\u001b[39m, line):\n\u001b[1;32m   2391\u001b[0m \u001b[38;5;250m    \u001b[39m\u001b[38;5;124;03m\"\"\"\u001b[39;00m\n\u001b[1;32m   2392\u001b[0m \u001b[38;5;124;03m    Figures out the data limit of the given line, updating `.Axes.dataLim`.\u001b[39;00m\n\u001b[1;32m   2393\u001b[0m \u001b[38;5;124;03m    \"\"\"\u001b[39;00m\n\u001b[0;32m-> 2394\u001b[0m     path \u001b[38;5;241m=\u001b[39m \u001b[43mline\u001b[49m\u001b[38;5;241;43m.\u001b[39;49m\u001b[43mget_path\u001b[49m\u001b[43m(\u001b[49m\u001b[43m)\u001b[49m\n\u001b[1;32m   2395\u001b[0m     \u001b[38;5;28;01mif\u001b[39;00m path\u001b[38;5;241m.\u001b[39mvertices\u001b[38;5;241m.\u001b[39msize \u001b[38;5;241m==\u001b[39m \u001b[38;5;241m0\u001b[39m:\n\u001b[1;32m   2396\u001b[0m         \u001b[38;5;28;01mreturn\u001b[39;00m\n",
      "File \u001b[0;32m/opt/conda/lib/python3.12/site-packages/matplotlib/lines.py:1038\u001b[0m, in \u001b[0;36mLine2D.get_path\u001b[0;34m(self)\u001b[0m\n\u001b[1;32m   1036\u001b[0m \u001b[38;5;250m\u001b[39m\u001b[38;5;124;03m\"\"\"Return the `~matplotlib.path.Path` associated with this line.\"\"\"\u001b[39;00m\n\u001b[1;32m   1037\u001b[0m \u001b[38;5;28;01mif\u001b[39;00m \u001b[38;5;28mself\u001b[39m\u001b[38;5;241m.\u001b[39m_invalidy \u001b[38;5;129;01mor\u001b[39;00m \u001b[38;5;28mself\u001b[39m\u001b[38;5;241m.\u001b[39m_invalidx:\n\u001b[0;32m-> 1038\u001b[0m     \u001b[38;5;28;43mself\u001b[39;49m\u001b[38;5;241;43m.\u001b[39;49m\u001b[43mrecache\u001b[49m\u001b[43m(\u001b[49m\u001b[43m)\u001b[49m\n\u001b[1;32m   1039\u001b[0m \u001b[38;5;28;01mreturn\u001b[39;00m \u001b[38;5;28mself\u001b[39m\u001b[38;5;241m.\u001b[39m_path\n",
      "File \u001b[0;32m/opt/conda/lib/python3.12/site-packages/matplotlib/lines.py:675\u001b[0m, in \u001b[0;36mLine2D.recache\u001b[0;34m(self, always)\u001b[0m\n\u001b[1;32m    673\u001b[0m \u001b[38;5;28;01mif\u001b[39;00m always \u001b[38;5;129;01mor\u001b[39;00m \u001b[38;5;28mself\u001b[39m\u001b[38;5;241m.\u001b[39m_invalidx:\n\u001b[1;32m    674\u001b[0m     xconv \u001b[38;5;241m=\u001b[39m \u001b[38;5;28mself\u001b[39m\u001b[38;5;241m.\u001b[39mconvert_xunits(\u001b[38;5;28mself\u001b[39m\u001b[38;5;241m.\u001b[39m_xorig)\n\u001b[0;32m--> 675\u001b[0m     x \u001b[38;5;241m=\u001b[39m \u001b[43m_to_unmasked_float_array\u001b[49m\u001b[43m(\u001b[49m\u001b[43mxconv\u001b[49m\u001b[43m)\u001b[49m\u001b[38;5;241m.\u001b[39mravel()\n\u001b[1;32m    676\u001b[0m \u001b[38;5;28;01melse\u001b[39;00m:\n\u001b[1;32m    677\u001b[0m     x \u001b[38;5;241m=\u001b[39m \u001b[38;5;28mself\u001b[39m\u001b[38;5;241m.\u001b[39m_x\n",
      "File \u001b[0;32m/opt/conda/lib/python3.12/site-packages/matplotlib/cbook.py:1345\u001b[0m, in \u001b[0;36m_to_unmasked_float_array\u001b[0;34m(x)\u001b[0m\n\u001b[1;32m   1343\u001b[0m     \u001b[38;5;28;01mreturn\u001b[39;00m np\u001b[38;5;241m.\u001b[39mma\u001b[38;5;241m.\u001b[39masarray(x, \u001b[38;5;28mfloat\u001b[39m)\u001b[38;5;241m.\u001b[39mfilled(np\u001b[38;5;241m.\u001b[39mnan)\n\u001b[1;32m   1344\u001b[0m \u001b[38;5;28;01melse\u001b[39;00m:\n\u001b[0;32m-> 1345\u001b[0m     \u001b[38;5;28;01mreturn\u001b[39;00m \u001b[43mnp\u001b[49m\u001b[38;5;241;43m.\u001b[39;49m\u001b[43masarray\u001b[49m\u001b[43m(\u001b[49m\u001b[43mx\u001b[49m\u001b[43m,\u001b[49m\u001b[43m \u001b[49m\u001b[38;5;28;43mfloat\u001b[39;49m\u001b[43m)\u001b[49m\n",
      "\u001b[0;31mTypeError\u001b[0m: float() argument must be a string or a real number, not 'Period'"
     ]
    },
    {
     "data": {
      "image/png": "[encoded data removed]",
      "text/plain": [
       "<Figure size 1200x600 with 1 Axes>"
      ]
     },
     "metadata": {},
     "output_type": "display_data"
    }
   ],
   "source": [
    "plt.figure(figsize=(12, 6))\n",
    "plt.plot(crisis_covid_df['year_month'], crisis_covid_df['gold_price'], label=\"Prix de l'Or\", color='gold')\n",
    "plt.plot(crisis_covid_df['year_month'], crisis_covid_df['ethereum_price'], label=\"Prix de l'Ethereum\", color='blue')\n",
    "plt.title(\"Evolution du prix de l'or et de l'Ethereum pendant la crise du COVID-19\")\n",
    "plt.xlabel(\"Temps\")\n",
    "plt.ylabel(\"Prix\")\n",
    "plt.legend()\n",
    "plt.grid(True)\n",
    "plt.show()"
   ]
  },
  {
   "cell_type": "code",
   "execution_count": 89,
   "metadata": {},
   "outputs": [
    {
     "data": {
      "image/png": "[encoded data removed]",
      "text/plain": [
       "<Figure size 1200x600 with 1 Axes>"
      ]
     },
     "metadata": {},
     "output_type": "display_data"
    }
   ],
   "source": [
    "plt.figure(figsize=(12, 6))\n",
    "plt.plot(crisis_covid_df['year_month'], crisis_covid_df['bitcoin_price'], label=\"Prix du Bitcoin\", color='orange')\n",
    "plt.title(\"Evolution du prix du Bitcoin pendant la crise du COVID-19\")\n",
    "plt.xlabel(\"Temps\")\n",
    "plt.ylabel(\"Prix\")\n",
    "plt.legend()\n",
    "plt.grid(True)\n",
    "plt.show()"
   ]
  },
  {
   "cell_type": "markdown",
   "metadata": {},
   "source": [
    "On observe que le cours de l'or est resté relativement stable pendant la période de la crise du COVID-19, alors que celui du Bitcoin a fortement augmenté à partir d'octobre 2020. Cette tendance haussière est également observable pour l'Ethereum à partir de la même date. On ne peut toutefois pas conclure sur le caractère de valeur refuge des cryptomonnaies à partir de ces seuls graphiques : cette tendance haussière observée peut n'être que le résultat de comportements spéculatifs favorables aux cryptomonnaies et temporaires. La stabilité du cours de l'or malgré la crise et les résultats précédents laissent à penser que l'or correspond bien à une valeur refuge."
   ]
  },
  {
   "cell_type": "markdown",
   "metadata": {},
   "source": [
    "*3.3. Ratio de Sharpe*\n",
    "\n",
    "On compare le rendement ajusté au risque des cryptomonnaies et de l'or pour évaluer la performance sur toute la période.\n",
    "\n",
    "Le ratio de Sharpe est défini par la formule :\n",
    "\n",
    "$$\n",
    "\\text{Ratio de Sharpe} = \\frac{R_p - R_f}{\\sigma_p}\n",
    "$$\n",
    "\n",
    "Où :\n",
    "- $ R_p $ est le rendement du portefeuille ou de l'actif.\n",
    "- $ R_f $ est le rendement sans risque.\n",
    "- $ \\sigma_p $ est l'écart-type du rendement du portefeuille (volatilité).\n",
    "\n"
   ]
  },
  {
   "cell_type": "code",
   "execution_count": 141,
   "metadata": {},
   "outputs": [
    {
     "data": {
      "image/png": "[encoded data removed]",
      "text/plain": [
       "<Figure size 640x480 with 1 Axes>"
      ]
     },
     "metadata": {},
     "output_type": "display_data"
    }
   ],
   "source": [
    "sharpe_ratios = {\n",
    "    \"Or\": final_df['gold_returns'].mean() / final_df['gold_returns'].std(),\n",
    "    \"Bitcoin\": final_df['bitcoin_returns'].mean() / final_df['bitcoin_returns'].std(),\n",
    "    \"Ethereum\": final_df['ethereum_returns'].mean() / final_df['ethereum_returns'].std()\n",
    "}\n",
    "plt.bar(sharpe_ratios.keys(), sharpe_ratios.values(), color=['gold', 'orange', 'blue'])\n",
    "plt.title(\"Ratio de Sharpe de l'or et des cryptomonnaies\")\n",
    "plt.ylabel(\"Ratio de Sharpe\")\n",
    "plt.grid(True)\n",
    "plt.show()"
   ]
  },
  {
   "cell_type": "markdown",
   "metadata": {},
   "source": [
    "On observe pour les cryptomonnaies et l'or un ratio de Sharpe positif : pour ces actifs, le rendement de l'investissement est supérieur au rendement sans risque, après ajustement pour la volatilité. Investir dans l'or génère un rendement excédentaire (au-dessus du taux sans risque) d'environ 0,18 unité pour chaque unité de risque prise. Ce ratio est d'environ 0.15 pour le bitcoin et 0.0.75 pour l'ethereum. \n",
    "Le ratio de Sharpe de l'or est le plus élevé. Ainsi l'investissement dans l'or est considéré comme plus performant en termes de rendement ajusté au risque que celui dans les cryptomonnaies. Le ratio de Sharpe de ces actifs n'est toutefois pas excellent, dans la mesure où il reste inférieur à 1 : le rendement n'excède pas le risque pris de manière significative. "
   ]
  },
  {
   "cell_type": "markdown",
   "metadata": {},
   "source": [
    "On conclut à partir de cette première approche descriptive que l'or, contrairement aux cryptomonnaies, possède les caractéristiques d'une valeur refuge en termes de corrélation des rendements avec ceux du marché boursier, de volatilité et de performance. La demande pour les cryptomonnaies en période de crise apparaît ainsi être le reflet de comportements spéculatifs plus qu'une croyance en leur capacité à conserver de la valeur, ce qui expliquerait les fluctuations plus importantes en termes de rendements et de cours observées pour ces actifs."
   ]
  },
  {
   "cell_type": "markdown",
   "metadata": {},
   "source": [
    "# Partie III- Modélisation"
   ]
  },
  {
   "cell_type": "markdown",
   "metadata": {},
   "source": [
    "En bourse, un actif financier est qualifié de « valeur refuge » si sa valeur se maintienne ou augmente pendant les périodes d'incertitude économique et de turbulence du marché boursier. C’est un actif utilisé par les investisseurs pour protéger leur capital lors des périodes de crise sur les marchés. Par conséquent, la corrélation entre cet actif et les actions pendant les périodes de crise est négative.\n",
    "\n",
    "\n",
    "Nous cherchons, dans une première partie, à vérifier si l’or est une valeur refuge. Pour cela, nous nous appuyons sur les travaux de Virginie Coudert et Hélène Raymond, qui ont analysé les comportements financiers de l’or à l'aide du modèle ARMA-GARCH. Ces modèles permettent d'étudier les rendements et la volatilité des actifs dans le temps, en capturant les dynamiques propres aux périodes de crises et de stabilité. \n",
    "\n",
    "Dans une seconde partie, nous proposons d'utiliser le même modèle afin de tester si la cryptomonnaie peut être considérée comme une valeur refuge. Pour ce faire, nous avons choisi d'analyser les deux cryptomonnaies les plus connues : le Bitcoin et l'Ethereum.\n",
    "\n",
    "Le modèle ARMA-GARCH est utilisé pour des séries temporelles stationnaires. Comme les prix des actifs ne sont pas généralement stationnaires, les deux chercheuses utilisent le rendement logarithmique des prix qui s’écrit sous la forme $$r_t = \\log\\left(\\frac{P_t}{P_{t-1}}\\right)$$  et qui est bien stationnaire. En effet, $$\\lim_{r_t \\to 0} r_t = 0$$. \n"
   ]
  },
  {
   "cell_type": "markdown",
   "metadata": {},
   "source": [
    "Les deux chercheuses proposent de travailler avec le modèle ARMA-GARCH(1,1). L'équation représentant la dynamique des rendements des actifs est donnée par ce modèle comme : \n",
    "\n",
    "$$\n",
    "r_t^k = c^k + a_1^k r_{t-1}^k + b_1^k \\epsilon_{t-1}^k\\leq 0 \\quad \\quad \\text{(1)} \\quad \\text{pour } k = G, S\n",
    "$$\n",
    "où\n",
    "- $ r_t^k $ : Rendement de l'actif $ k $ à l'instant $ t $.\n",
    "- $ c^k $ : Constante spécifique à l'actif $ k $.\n",
    "- $ a_i^k $ : Coefficients des retards.\n",
    "- $ b_i^k $ : Coefficients des erreurs.\n",
    "- $ \\epsilon_{t-1}^k $ : Résidus au temps $ t-1 $ pour l'actif $ k $."
   ]
  },
  {
   "cell_type": "markdown",
   "metadata": {},
   "source": [
    "Le modèle utilisé inclut également un système d'équations pour modéliser la variance conditionnelle des actifs et leur covariance. Ce système s'exprime comme suit :\n",
    "$$\n",
    "\\begin{cases} \n",
    "h_t^k = c^k + \\alpha^k \\epsilon_{t-1}^2 + \\beta^k h_{t-1}^k + d^k \\text{dum}_{\\epsilon_k < 0} \\epsilon_{t-1}^2 + \\delta^k \\text{dum}_{\\text{crise}}, \\quad \\text{(2)} & k = G, S \\\\[10pt]\n",
    "h_t^{GS} = c^{GS} + \\alpha^{GS} \\epsilon_{G,t-1} \\epsilon_{S,t-1} + \\beta^{GS} h_{t-1}^{GS} + d^{GS} \\text{dum}_{\\epsilon_{S,t-1} < 0, \\epsilon_{G,t-1} < 0} \\epsilon_{G,t-1} \\epsilon_{S,t-1} + \\delta^{GS} \\text{dum}_{\\text{crise}}, \\quad \\text{(3)}\n",
    "\\end{cases}\n",
    "$$\n",
    "\n",
    "\n",
    "où \n",
    "- $h_t^k$ : Variance conditionnelle de l'actif $k$ (or ou actions).\n",
    "- $h_t^{GS}$ : Covariance conditionnelle entre l'or et les actions.\n",
    "- $\\text{dum}_{\\text{crise}}$ : Variable muette prenant la valeur 1 pendant les périodes de crise, 0 sinon.\n",
    "- $\\text{dum}_{\\epsilon_k < 0}$ : Variable muette prenant la valeur 1 lorsque $\\epsilon_k$ (choc de l'actif $k$) est négatif, 0 sinon.\n",
    "- $\\text{dum}_{\\epsilon_S < 0, \\epsilon_G < 0}$ : Variable muette prenant la valeur 1 lorsque $\\epsilon_S$ (choc des actions) et $\\epsilon_G$ (choc de l'or) sont tous deux négatifs, 0 sinon.\n",
    "- $\\epsilon_k$ : Choc de l'actif $k$.\n",
    "- $\\epsilon_S$ : Choc des actions.\n",
    "- $\\epsilon_G$ : Choc de l'or.\n",
    "\n"
   ]
  },
  {
   "cell_type": "markdown",
   "metadata": {},
   "source": [
    "Les deux chercheuses concluent dans leurs travaux que, pour que l'or soit considéré comme une valeur refuge, il doit satisfaire la condition suivante :\n",
    "$$\n",
    "c^{GS} + \\delta^{GS} \\leq 0 \\quad \\quad \\text{(C1)}\n",
    "$$\n"
   ]
  },
  {
   "cell_type": "markdown",
   "metadata": {},
   "source": [
    "Notre objectif principal se résume à vérifier la condition $(C1)$. Nous chercherons à effectuer une régression pour extraire les coefficients $ c^{GS} $ et $ \\delta^{GS} $ de l'équation $ (3) $. Cependant, tous les régresseurs de cette équation ne sont pas directement connus. Il sera donc nécessaire de les identifier et de les calculer au préalable.\n"
   ]
  },
  {
   "cell_type": "markdown",
   "metadata": {},
   "source": [
    "Nous allons commencer par déterminer les périodes de crise car elles sont essentielles pour  la variable $ \\text{dum}_{\\text{crise}} $, qui prend la valeur 1 s'il y a une crise et 0 sinon. Pour identifier les périodes de crise, nous utilisons l'indice **S&P 500** comme indicateur. Cet indice est choisi car il représente un large éventail d'actions américaines et est souvent considéré comme un baromètre de la santé économique et financière globale. Une baisse significative du S&P 500 est donc un signal fiable de conditions de marché défavorables.\n",
    "\n",
    "Nous définissons une crise comme une période où le S&P 500 chute de plus de 10 % par rapport à son maximum des 6 derniers mois. Le processus est implémenté comme suit :"
   ]
  },
  {
   "cell_type": "code",
   "execution_count": 142,
   "metadata": {},
   "outputs": [
    {
     "name": "stdout",
     "output_type": "stream",
     "text": [
      "    year_month  s&p500_price  6_months_max  percent_change crisis\n",
      "11     2000-12   1321.559998   1475.320007      -10.422146      1\n",
      "13     2001-02   1295.909973   1474.764954      -12.127694      1\n",
      "14     2001-03   1174.304993   1380.304993      -14.924238      1\n",
      "15     2001-04   1180.645020   1366.679993      -13.612182      1\n",
      "20     2001-09   1050.075012   1273.965027      -17.574267      1\n",
      "21     2001-10   1068.684998   1273.965027      -16.113474      1\n",
      "22     2001-11   1108.845032   1244.825012      -10.923622      1\n",
      "29     2002-06   1011.829987   1140.334961      -11.269055      1\n",
      "30     2002-07    885.070007   1140.334961      -22.385085      1\n",
      "31     2002-08    899.220001   1140.334961      -21.144222      1\n",
      "32     2002-09    862.110016   1105.649963      -22.026858      1\n",
      "33     2002-10    838.035004   1077.774963      -22.243972      1\n",
      "34     2002-11    906.934998   1011.829987      -10.366859      1\n",
      "96     2008-01   1370.910034   1532.825012      -10.563174      1\n",
      "97     2008-02   1356.385010   1532.825012      -11.510773      1\n",
      "98     2008-03   1308.330017   1532.825012      -14.645833      1\n",
      "102    2008-07   1246.304993   1406.654968      -11.399382      1\n",
      "104    2008-09   1204.730042   1406.654968      -14.354972      1\n",
      "105    2008-10   1003.415009   1406.654968      -28.666586      1\n",
      "106    2008-11    874.265015   1338.025024      -34.660040      1\n",
      "107    2008-12    867.269989   1280.299988      -32.260408      1\n",
      "108    2009-01    874.074982   1280.299988      -31.728892      1\n",
      "109    2009-02    804.765015   1204.730042      -33.199556      1\n",
      "110    2009-03    749.884979   1003.415009      -25.266717      1\n",
      "126    2010-07   1065.929962   1195.244995      -10.819124      1\n",
      "139    2011-08   1204.460022   1341.190002      -10.194676      1\n",
      "140    2011-09   1171.755005   1341.190002      -12.633184      1\n",
      "141    2011-10   1183.715027   1341.190002      -11.741437      1\n",
      "227    2018-12   2573.380005   2902.515015      -11.339649      1\n",
      "228    2019-01   2576.454956   2902.515015      -11.233708      1\n",
      "242    2020-03   2664.290039   3276.204956      -18.677553      1\n",
      "243    2020-04   2701.175049   3276.204956      -17.551707      1\n",
      "244    2020-05   2917.654907   3276.204956      -10.944066      1\n",
      "268    2022-05   4058.990112   4652.025146      -12.747890      1\n",
      "269    2022-06   3907.189941   4520.620117      -13.569602      1\n",
      "270    2022-07   3930.854980   4397.584961      -10.613325      1\n",
      "272    2022-09   3851.704834   4358.864990      -11.635143      1\n",
      "273    2022-10   3698.500000   4139.904907      -10.662199      1\n"
     ]
    }
   ],
   "source": [
    "# Calculer le maximum des 6 derniers mois\n",
    "final_df['6_months_max'] = final_df['s&p500_price'].rolling(window=6, min_periods=6).max()\n",
    "\n",
    "# Calculer la variation en pourcentage par rapport au maximum des 6 derniers mois\n",
    "final_df['percent_change'] = (final_df['s&p500_price'] - final_df['6_months_max']) / final_df['6_months_max'] * 100\n",
    "\n",
    "# Détecter les crises avec un seuil de -10 %\n",
    "final_df['crisis'] = final_df['percent_change'].apply(lambda x: 1 if x <= -10 else (0 if pd.notna(x) else pd.NA))\n",
    "\n",
    "# Afficher uniquement les lignes où une crise est détectée\n",
    "crisis_df = final_df[final_df['crisis'] == 1]\n",
    "print(crisis_df[['year_month', 's&p500_price', '6_months_max', 'percent_change', 'crisis']])"
   ]
  },
  {
   "cell_type": "markdown",
   "metadata": {},
   "source": [
    "Si l'on affiche les résultats de cette méthode, on peut constater que, par exemple, les crises détectées en 2020 commencent dès **03-2020**. Cela est cohérent avec l'apparition de la pandémie de COVID-19, qui a eu un impact immédiat sur les marchés financiers. Ce constat valide l'approche utilisée pour identifier les périodes de crise."
   ]
  },
  {
   "cell_type": "code",
   "execution_count": 143,
   "metadata": {},
   "outputs": [
    {
     "name": "stdout",
     "output_type": "stream",
     "text": [
      "    year_month crisis\n",
      "242    2020-03      1\n",
      "243    2020-04      1\n",
      "244    2020-05      1\n"
     ]
    }
   ],
   "source": [
    "filtered_2020_crisis = final_df[(final_df['crisis'] == 1) & (final_df['year_month'].astype(str).str.startswith('2020'))]\n",
    "\n",
    "# Afficher uniquement les colonnes 'year_month' et 'crisis'\n",
    "print(filtered_2020_crisis[['year_month', 'crisis']])"
   ]
  },
  {
   "cell_type": "markdown",
   "metadata": {},
   "source": [
    "Nous allons maintenant passer à la récupération des $ \\epsilon_t^G $ pour l'or et $ \\epsilon_t^S $ pour les actions. Ces résidus seront nécessaires pour définir les variables suivantes :\n",
    "- $ \\text{dum}_{\\epsilon_G < 0} $ : Prend la valeur 1 lorsque $ \\epsilon_t^G $ (choc de l'or) est négatif, 0 sinon.\n",
    "- $ \\text{dum}_{\\epsilon_S < 0} $ : Prend la valeur 1 lorsque $ \\epsilon_t^S $ (choc des actions) est négatif, 0 sinon.\n",
    "- $ \\text{dum}_{\\epsilon_S < 0, \\epsilon_G < 0} $ : Prend la valeur 1 lorsque $ \\epsilon_t^S $ et $ \\epsilon_t^G $ sont tous deux négatifs.\n",
    "\n",
    "\n",
    "Ces $ \\epsilon $ apparaissent dans l'équation des rendements $ (1) $.\n",
    "Pour les calculer, nous procédons en deux étapes :\n",
    "1. **Calcul des rendements :**  \n",
    "   Nous calculons les rendements $ r_t^G $ pour l'or et $ r_t^S $ pour les actions à partir des prix des actifs en utilisant la formule logarithmique suivante :  \n",
    "   $$ r_t^k = \\log\\left(\\frac{P_t^k}{P_{t-1}^k}\\right) $$\n",
    "\n",
    "2. **Application du modèle GARCH-ARMA(1,1) :**  \n",
    "   Nous utilisons un modèle **GARCH-ARMA(1,1)** prédéfini dans Python pour estimer les résidus $ \\epsilon_t^G $ pour l'or et $ \\epsilon_t^S $ pour les actions ainsi que leurs retards correspondants $ \\epsilon_{t-1}^G $ et $ \\epsilon_{t-1}^S $.\n"
   ]
  },
  {
   "cell_type": "markdown",
   "metadata": {},
   "source": [
    "Dans cette étape, nous effectuons une régression linéaire pour estimer la covariance conditionnelle $h_t^{GS}$. D'après l'equation $(3)$, les régresseurs utilisés sont les suivants :\n",
    "\n",
    "- $\\epsilon_{G,t-1} \\cdot \\epsilon_{S,t-1}$ \n",
    "- $h_{t-1}^{GS}$\n",
    "- $\\text{dum}_{\\epsilon_{S,t-1}<0, \\epsilon_{G,t-1}<0} \\cdot \\epsilon_{G,t-1} \\cdot \\epsilon_{S,t-1}$ \n",
    "- $\\text{dum}_{\\text{crise}}$ \n",
    "\n",
    "\n",
    "La covariance conditionnelle $h_t^{GS}$ est estimée comme le produit des résidus $\\epsilon_{G,t} \\cdot \\epsilon_{S,t}$.\n",
    "\n",
    " Une fois la régression réalisée, les coefficients $c^{GS}$ et $\\delta^{GS}$ sont extraits, et leur somme est calculée pour analyser leur contribution totale à la dynamique de la covariance conditionnelle.\n",
    "\n",
    " De cette manière, nous pouvons voir si la codition $(C1)$ est bien vérifiée ou non. \n"
   ]
  },
  {
   "cell_type": "markdown",
   "metadata": {},
   "source": [
    "Nous proposons de montrer un exemple ici, testé sur les données des actions d'Amazon. "
   ]
  },
  {
   "cell_type": "code",
   "execution_count": 145,
   "metadata": {},
   "outputs": [
    {
     "name": "stdout",
     "output_type": "stream",
     "text": [
      " sum: 0.1734638400091688\n"
     ]
    }
   ],
   "source": [
    "# 1. Préparer les données\n",
    "# Filtrer les données avec des prix positifs pour l'or et Amazon\n",
    "final_df = final_df[(final_df['gold_price'] > 0) & (final_df['amazon_stock_price'] > 0)]\n",
    "final_df = final_df.dropna()\n",
    "\n",
    "# Calculer les rendements logarithmiques\n",
    "final_df['gold_return'] = np.log(final_df['gold_price'] / final_df['gold_price'].shift(1)) * 100\n",
    "final_df['amazon_stock_return'] = np.log(final_df['amazon_stock_price'] / final_df['amazon_stock_price'].shift(1)) * 100\n",
    "final_df = final_df.dropna()  # Supprimer les valeurs manquantes créées par les décalages\n",
    "\n",
    "# 2. Ajuster les modèles GARCH univariés\n",
    "# Modèle pour les rendements de l'or\n",
    "gold_model = arch_model(final_df['gold_return'], mean='Zero', vol='Garch', p=1, q=1)\n",
    "gold_fit = gold_model.fit(disp=\"off\")\n",
    "\n",
    "# Modèle pour les rendements des actions Amazon\n",
    "amazon_model = arch_model(final_df['amazon_stock_return'], mean='Zero', vol='Garch', p=1, q=1)\n",
    "amazon_fit = amazon_model.fit(disp=\"off\")\n",
    "\n",
    "# Extraire les résidus standardisés\n",
    "gold_std_resid = gold_fit.std_resid\n",
    "amazon_std_resid = amazon_fit.std_resid\n",
    "\n",
    "# 3. Calcul de la covariance conditionnelle\n",
    "final_df['covariance_conditionnelle'] = gold_std_resid * amazon_std_resid\n",
    "\n",
    "# Variables d'interaction(=produit des résidus) pour t-1\n",
    "final_df['interaction_t_minus_1'] = (\n",
    "    (gold_std_resid * amazon_std_resid).shift(1)\n",
    ")\n",
    "\n",
    "final_df['interaction_dum_t_minus_1'] = (\n",
    "    ((gold_std_resid < 0).astype(int) * (amazon_std_resid < 0).astype(int) * gold_std_resid * amazon_std_resid).shift(1)\n",
    ")\n",
    "\n",
    "# Calcul de la covariance conditionnelle t-1\n",
    "final_df['h_t_minus_1'] = (gold_std_resid * amazon_std_resid).shift(1)\n",
    "\n",
    "# 4. Ajouter la variable de crise\n",
    "final_df['dum_crise'] = (final_df['crisis'] == 1).astype(int)\n",
    "\n",
    "# Nettoyage final des données\n",
    "final_df = final_df.replace([np.inf, -np.inf], np.nan)\n",
    "final_df = final_df.dropna()  \n",
    "# 5. Régression pour estimer c_GS et delta_GS\n",
    "X = final_df[['interaction_t_minus_1', 'h_t_minus_1', 'interaction_dum_t_minus_1', 'dum_crise']] \n",
    "X = add_constant(X)  # Ajouter une constante pour inclure c_GS\n",
    "y = final_df['covariance_conditionnelle']  \n",
    "\n",
    "model_hGS = OLS(y, X)\n",
    "results_hGS = model_hGS.fit()\n",
    "# Extraire les coefficients\n",
    "c_GS = results_hGS.params['const']\n",
    "alpha_GS = results_hGS.params['interaction_t_minus_1']\n",
    "beta_GS = results_hGS.params['h_t_minus_1']\n",
    "d_GS = results_hGS.params['interaction_dum_t_minus_1']\n",
    "delta_GS = results_hGS.params['dum_crise']\n",
    "\n",
    "\n",
    "# Calculer la somme des coefficients\n",
    "sum = c_GS + delta_GS\n",
    "\n",
    "print(f\" sum: {sum}\")"
   ]
  },
  {
   "cell_type": "markdown",
   "metadata": {},
   "source": [
    "Avant d'analyser cette valeur, nous allons appliquer la même méthode aux autres entreprises et nous afficherons les résultats obtenus. "
   ]
  },
  {
   "cell_type": "markdown",
   "metadata": {},
   "source": [
    "Pour traiter les actions des autres entreprises, plutôt que de réutiliser le même code à chaque fois, nous proposons de définir une fonction générique prenant en paramètre le nom de l’entreprise : `analyze_company(company_name)`. Cette fonction permettra d'automatiser l'analyse."
   ]
  },
  {
   "cell_type": "code",
   "execution_count": 146,
   "metadata": {},
   "outputs": [],
   "source": [
    "def analyze_company_gold(company_name):\n",
    "    \"\"\"\n",
    "    Applique un modèle ARMA-GARCH univarié et effectue une régression pour estimer les coefficients de l'équation (3)\n",
    "\n",
    "    Arguments :\n",
    "    - company_name : Nom de l'entreprise.\n",
    "\n",
    "    Retourne :\n",
    "    - Un dictionnaire contenant le nom de l'entreprise et la somme c_GS et delta_GS.\n",
    "    \"\"\"\n",
    "    # Charger les données globales\n",
    "    global final_df\n",
    "\n",
    "    # Vérifier que les colonnes nécessaires existent\n",
    "    price_col = f\"{company_name}_stock_price\"\n",
    "    if price_col not in final_df.columns:\n",
    "        raise ValueError(f\"La colonne {price_col} est absente du DataFrame.\")\n",
    "\n",
    "    # Préparer les données\n",
    "    final_df = final_df[(final_df['gold_price'] > 0) & (final_df[price_col] > 0)]\n",
    "    final_df = final_df.dropna()\n",
    "\n",
    "    # Calculer les rendements logarithmiques\n",
    "    final_df['gold_return'] = np.log(final_df['gold_price'] / final_df['gold_price'].shift(1)) * 100\n",
    "    final_df[f'{company_name}_stock_return'] = np.log(final_df[price_col] / final_df[price_col].shift(1)) * 100\n",
    "    final_df = final_df.dropna()\n",
    "\n",
    "    # Ajuster les modèles GARCH univariés\n",
    "    gold_model = arch_model(final_df['gold_return'], mean='Zero', vol='Garch', p=1, q=1)\n",
    "    gold_fit = gold_model.fit(disp=\"off\")\n",
    "\n",
    "    company_model = arch_model(final_df[f'{company_name}_stock_return'], mean='Zero', vol='Garch', p=1, q=1)\n",
    "    company_fit = company_model.fit(disp=\"off\")\n",
    "\n",
    "    # Extraire les résidus standardisés\n",
    "    gold_std_resid = gold_fit.std_resid\n",
    "    company_std_resid = company_fit.std_resid\n",
    "\n",
    "    # Calculer les interactions (= produit des résidus) pour t-1\n",
    "    final_df['interaction_t_minus_1'] = (gold_std_resid * company_std_resid).shift(1)\n",
    "    final_df['interaction_dum_t_minus_1'] = (\n",
    "        (gold_std_resid < 0).astype(int) * (company_std_resid < 0).astype(int) * gold_std_resid * company_std_resid\n",
    "    ).shift(1)\n",
    "    # 3. Calcul de la covariance conditionnelle\n",
    "    final_df['covariance_conditionnelle'] = gold_std_resid * company_std_resid\n",
    "\n",
    "    # Calcul de la covariance conditionnelle t-1\n",
    "    final_df['h_t_minus_1'] = (gold_std_resid * company_std_resid).shift(1)\n",
    "\n",
    "    # Ajouter la variable de crise\n",
    "    final_df['dum_crise'] = (final_df['crisis'] == 1).astype(int)\n",
    "\n",
    "    # Nettoyage des données\n",
    "    final_df = final_df.replace([np.inf, -np.inf], np.nan).dropna()\n",
    "\n",
    "    # Régression à partir de l'équation (3)\n",
    "    X = final_df[['interaction_t_minus_1', 'h_t_minus_1', 'interaction_dum_t_minus_1', 'dum_crise']]\n",
    "    X = add_constant(X)  # Ajouter une constante pour inclure c_GS\n",
    "    y = final_df['covariance_conditionnelle']\n",
    "\n",
    "    model_hGS = OLS(y, X)\n",
    "    results_hGS = model_hGS.fit()\n",
    "\n",
    "    # Extraire les coefficients\n",
    "    c_GS = results_hGS.params['const']\n",
    "    alpha_GS = results_hGS.params['interaction_t_minus_1']\n",
    "    beta_GS = results_hGS.params['h_t_minus_1']\n",
    "    d_GS = results_hGS.params['interaction_dum_t_minus_1']\n",
    "    delta_GS = results_hGS.params['dum_crise']\n",
    "\n",
    "    return {\n",
    "        'company': company_name,\n",
    "        'sum': c_GS + delta_GS\n",
    "    }\n",
    "\n"
   ]
  },
  {
   "cell_type": "code",
   "execution_count": 147,
   "metadata": {},
   "outputs": [
    {
     "name": "stdout",
     "output_type": "stream",
     "text": [
      "{'company': 'amazon', 'sum': np.float64(0.1630417966531443)}\n",
      "{'company': 'meta', 'sum': np.float64(-0.006235342885613277)}\n",
      "{'company': 'apple', 'sum': np.float64(-0.06293228916586364)}\n",
      "{'company': 'google', 'sum': np.float64(0.15758584889946955)}\n",
      "{'company': 'microsoft', 'sum': np.float64(-0.20614517153021114)}\n"
     ]
    }
   ],
   "source": [
    "companies = ['amazon', 'meta', 'apple', 'google', 'microsoft']\n",
    "results_gold = []\n",
    "\n",
    "for company in companies:\n",
    "    try:\n",
    "        result = analyze_company_gold(company)\n",
    "        results_gold.append(result)\n",
    "    except ValueError as e:\n",
    "        print(f\"Erreur pour {company} : {e}\")\n",
    "\n",
    "for res in results_gold:\n",
    "    print(res)"
   ]
  },
  {
   "cell_type": "markdown",
   "metadata": {},
   "source": [
    "Les résultats montrent que, dans certains cas, l'or agit bien comme une valeur refuge en vérifiant la condition (C1), mais dans d'autres cas, cette condition n'est pas satisfaite. Cela suggère que le rôle de l'or comme valeur refuge peut dépendre d'autres paramètres. Afin d'analyser davantage ces résultats, nous allons appliquer le même code pour le Bitcoin et l'Ethereum, afin d'analyser leur comportement et déterminer s'ils peuvent agir comme des valeurs refuge dans des situations similaires.\n"
   ]
  },
  {
   "cell_type": "code",
   "execution_count": 148,
   "metadata": {},
   "outputs": [],
   "source": [
    "def analyze_company_bitcoin(company_name):\n",
    "    \"\"\"\n",
    "    Applique un modèle ARMA-GARCH univarié et effectue une régression pour estimer c_GS et delta_GS pour une entreprise donnée.\n",
    "\n",
    "    Arguments :\n",
    "    - company_name : Nom de l'entreprise .\n",
    "\n",
    "    Retourne :\n",
    "    - Un dictionnaire contenant le nom de l'entreprise et la somme recherché.\n",
    "    \"\"\"\n",
    "    # Charger les données globales\n",
    "    global final_df\n",
    "\n",
    "    # Vérifier que les colonnes nécessaires existent\n",
    "    price_col = f\"{company_name}_stock_price\"\n",
    "    if price_col not in final_df.columns:\n",
    "        raise ValueError(f\"La colonne {price_col} est absente du DataFrame.\")\n",
    "\n",
    "    # Préparer les données\n",
    "    final_df = final_df[(final_df['bitcoin_price'] > 0) & (final_df[price_col] > 0)]\n",
    "    final_df = final_df.dropna()\n",
    "\n",
    "    # Calculer les rendements logarithmiques\n",
    "    final_df['bitcoin_return'] = np.log(final_df['bitcoin_price'] / final_df['bitcoin_price'].shift(1)) * 100\n",
    "    final_df[f'{company_name}_stock_return'] = np.log(final_df[price_col] / final_df[price_col].shift(1)) * 100\n",
    "    final_df = final_df.dropna()\n",
    "\n",
    "    # Ajuster les modèles GARCH univariés\n",
    "    bitcoin_model = arch_model(final_df['bitcoin_return'], mean='Zero', vol='Garch', p=1, q=1)\n",
    "    bitcoin_fit = bitcoin_model.fit(disp=\"off\")\n",
    "\n",
    "    company_model = arch_model(final_df[f'{company_name}_stock_return'], mean='Zero', vol='Garch', p=1, q=1)\n",
    "    company_fit = company_model.fit(disp=\"off\")\n",
    "\n",
    "    # Extraire les résidus standardisés\n",
    "    bitcoin_std_resid = bitcoin_fit.std_resid\n",
    "    company_std_resid = company_fit.std_resid\n",
    "\n",
    "    # Calculer les interactions (= produit des résidus) pour t-1\n",
    "    final_df['interaction_t_minus_1'] = (bitcoin_std_resid * company_std_resid).shift(1)\n",
    "    final_df['interaction_dum_t_minus_1'] = (\n",
    "        (bitcoin_std_resid < 0).astype(int) * (company_std_resid < 0).astype(int) * bitcoin_std_resid * company_std_resid\n",
    "    ).shift(1)\n",
    "\n",
    "    # Calcul de la covariance conditionnelle\n",
    "    final_df['covariance_conditionnelle'] = bitcoin_std_resid * company_std_resid\n",
    "\n",
    "    # Calcul de la covariance conditionnelle t-1\n",
    "    final_df['h_t_minus_1'] = (bitcoin_std_resid * company_std_resid).shift(1)\n",
    "\n",
    "    # Ajouter la variable de crise\n",
    "    final_df['dum_crise'] = (final_df['crisis'] == 1).astype(int)\n",
    "\n",
    "    # Nettoyage des données\n",
    "    final_df = final_df.replace([np.inf, -np.inf], np.nan).dropna()\n",
    "\n",
    "    # Régression à partir de l'équation (3)\n",
    "    X = final_df[['interaction_t_minus_1', 'h_t_minus_1', 'interaction_dum_t_minus_1', 'dum_crise']]\n",
    "    X = add_constant(X)  # Ajouter une constante pour inclure c_GS\n",
    "    y = final_df['covariance_conditionnelle']\n",
    "\n",
    "    model_hGS = OLS(y, X)\n",
    "    results_hGS = model_hGS.fit()\n",
    "\n",
    "    # Extraire les coefficients\n",
    "    c_GS = results_hGS.params['const']\n",
    "    delta_GS = results_hGS.params['dum_crise']\n",
    "\n",
    "    return {\n",
    "        'company': company_name,\n",
    "        'sum': c_GS + delta_GS\n",
    "    }\n"
   ]
  },
  {
   "cell_type": "code",
   "execution_count": 149,
   "metadata": {},
   "outputs": [
    {
     "name": "stderr",
     "output_type": "stream",
     "text": [
      "/opt/conda/lib/python3.12/site-packages/arch/univariate/base.py:768: ConvergenceWarning: The optimizer returned code 8. The message is:\n",
      "Positive directional derivative for linesearch\n",
      "See scipy.optimize.fmin_slsqp for code meaning.\n",
      "\n",
      "  warnings.warn(\n"
     ]
    },
    {
     "name": "stdout",
     "output_type": "stream",
     "text": [
      "{'company': 'amazon', 'sum': np.float64(0.23100366205404893)}\n",
      "{'company': 'meta', 'sum': np.float64(0.08427014725496486)}\n",
      "{'company': 'apple', 'sum': np.float64(0.19747530929671608)}\n",
      "{'company': 'google', 'sum': np.float64(0.1570415343280066)}\n",
      "{'company': 'microsoft', 'sum': np.float64(0.20462900265614856)}\n"
     ]
    }
   ],
   "source": [
    "companies = ['amazon', 'meta', 'apple', 'google', 'microsoft']\n",
    "results_bitcoin = []\n",
    "\n",
    "for company in companies:\n",
    "    try:\n",
    "        result = analyze_company_bitcoin(company)\n",
    "        results_bitcoin.append(result)\n",
    "    except ValueError as e:\n",
    "        print(f\"Erreur pour {company} : {e}\")\n",
    "\n",
    "for res in results_bitcoin:\n",
    "    print(res)"
   ]
  },
  {
   "cell_type": "code",
   "execution_count": 150,
   "metadata": {},
   "outputs": [],
   "source": [
    "def analyze_company_ethereum(company_name):\n",
    "    \"\"\"\n",
    "    Applique un modèle ARMA-GARCH univarié et effectue une régression pour estimer c_GS et delta_GS pour une entreprise donnée.\n",
    "\n",
    "    Arguments :\n",
    "    - company_name : Nom de l'entreprise.\n",
    "\n",
    "    Retourne :\n",
    "    - Un dictionnaire contenant c_GS, delta_GS et leur somme.\n",
    "    \"\"\"\n",
    "    # Charger les données globales\n",
    "    global final_df\n",
    "\n",
    "    # Vérifier que les colonnes nécessaires existent\n",
    "    price_col = f\"{company_name}_stock_price\"\n",
    "    if price_col not in final_df.columns:\n",
    "        raise ValueError(f\"La colonne {price_col} est absente du DataFrame.\")\n",
    "\n",
    "    # Préparer les données\n",
    "    final_df = final_df[(final_df['ethereum_price'] > 0) & (final_df[price_col] > 0)]\n",
    "    final_df = final_df.dropna()\n",
    "\n",
    "    # Calculer les rendements logarithmiques\n",
    "    final_df['ethereum_return'] = np.log(final_df['ethereum_price'] / final_df['ethereum_price'].shift(1)) * 100\n",
    "    final_df[f'{company_name}_stock_return'] = np.log(final_df[price_col] / final_df[price_col].shift(1)) * 100\n",
    "    final_df = final_df.dropna()\n",
    "\n",
    "    # Ajuster les modèles GARCH univariés\n",
    "    ethereum_model = arch_model(final_df['ethereum_return'], mean='Zero', vol='Garch', p=1, q=1)\n",
    "    ethereum_fit = ethereum_model.fit(disp=\"off\")\n",
    "\n",
    "    company_model = arch_model(final_df[f'{company_name}_stock_return'], mean='Zero', vol='Garch', p=1, q=1)\n",
    "    company_fit = company_model.fit(disp=\"off\")\n",
    "\n",
    "    # Extraire les résidus standardisés\n",
    "    ethereum_std_resid = ethereum_fit.std_resid\n",
    "    company_std_resid = company_fit.std_resid\n",
    "\n",
    "    # Calculer les interactions (= produit des résidus) pour t-1\n",
    "    final_df['interaction_t_minus_1'] = (ethereum_std_resid * company_std_resid).shift(1)\n",
    "    final_df['interaction_dum_t_minus_1'] = (\n",
    "        (ethereum_std_resid < 0).astype(int) * (company_std_resid < 0).astype(int) * ethereum_std_resid * company_std_resid\n",
    "    ).shift(1)\n",
    "\n",
    "    # Calcul de la covariance conditionnelle\n",
    "    final_df['covariance_conditionnelle'] = ethereum_std_resid * company_std_resid\n",
    "\n",
    "    # Calcul de la covariance conditionnelle t-1\n",
    "    final_df['h_t_minus_1'] = (ethereum_std_resid * company_std_resid).shift(1)\n",
    "\n",
    "    # Ajouter la variable de crise\n",
    "    final_df['dum_crise'] = (final_df['crisis'] == 1).astype(int)\n",
    "\n",
    "    # Nettoyage des données\n",
    "    final_df = final_df.replace([np.inf, -np.inf], np.nan).dropna()\n",
    "\n",
    "    # Régression à partir de l'équation (3)\n",
    "    X = final_df[['interaction_t_minus_1', 'h_t_minus_1', 'interaction_dum_t_minus_1', 'dum_crise']]\n",
    "    X = add_constant(X)  # Ajouter une constante pour inclure c_GS\n",
    "    y = final_df['covariance_conditionnelle']\n",
    "\n",
    "    model_hGS = OLS(y, X)\n",
    "    results_hGS = model_hGS.fit()\n",
    "\n",
    "    # Extraire les coefficients\n",
    "    c_GS = results_hGS.params['const']\n",
    "    delta_GS = results_hGS.params['dum_crise']\n",
    "\n",
    "    return {\n",
    "        'company': company_name,\n",
    "        'sum': c_GS + delta_GS\n",
    "    }"
   ]
  },
  {
   "cell_type": "code",
   "execution_count": 151,
   "metadata": {},
   "outputs": [
    {
     "name": "stdout",
     "output_type": "stream",
     "text": [
      "{'company': 'amazon', 'sum': np.float64(0.4044944538705097)}\n",
      "{'company': 'meta', 'sum': np.float64(0.24302417774523058)}\n",
      "{'company': 'apple', 'sum': np.float64(0.39156192555245023)}\n",
      "{'company': 'google', 'sum': np.float64(0.30954294924353576)}\n",
      "{'company': 'microsoft', 'sum': np.float64(0.5230229116922834)}\n"
     ]
    }
   ],
   "source": [
    "companies = ['amazon', 'meta', 'apple', 'google', 'microsoft']\n",
    "results_ethereum = []\n",
    "\n",
    "for company in companies:\n",
    "    try:\n",
    "        result = analyze_company_ethereum(company)\n",
    "        results_ethereum.append(result)\n",
    "    except ValueError as e:\n",
    "        print(f\"Erreur pour {company} : {e}\")\n",
    "for res in results_ethereum:\n",
    "    print(res)"
   ]
  },
  {
   "cell_type": "code",
   "execution_count": 152,
   "metadata": {},
   "outputs": [
    {
     "name": "stdout",
     "output_type": "stream",
     "text": [
      "Entreprise : amazon\n",
      "Différence Or - Bitcoin : -0.06796186540090463\n",
      "Différence Or - Ethereum : -0.2414526572173654\n",
      "--------------------------------------------------\n",
      "Entreprise : meta\n",
      "Différence Or - Bitcoin : -0.09050549014057814\n",
      "Différence Or - Ethereum : -0.24925952063084386\n",
      "--------------------------------------------------\n",
      "Entreprise : apple\n",
      "Différence Or - Bitcoin : -0.2604075984625797\n",
      "Différence Or - Ethereum : -0.45449421471831386\n",
      "--------------------------------------------------\n",
      "Entreprise : google\n",
      "Différence Or - Bitcoin : 0.0005443145714629505\n",
      "Différence Or - Ethereum : -0.1519571003440662\n",
      "--------------------------------------------------\n",
      "Entreprise : microsoft\n",
      "Différence Or - Bitcoin : -0.4107741741863597\n",
      "Différence Or - Ethereum : -0.7291680832224946\n",
      "--------------------------------------------------\n"
     ]
    }
   ],
   "source": [
    "for gold, bitcoin, ethereum in zip(results_gold, results_bitcoin, results_ethereum):\n",
    "    company_name = gold['company'] \n",
    "    diff_gold_bitcoin = gold['sum'] - bitcoin['sum']\n",
    "    diff_gold_ethereum = gold['sum'] - ethereum['sum']\n",
    "\n",
    "    print(f\"Entreprise : {company_name}\")\n",
    "    print(f\"Différence Or - Bitcoin : {diff_gold_bitcoin}\")\n",
    "    print(f\"Différence Or - Ethereum : {diff_gold_ethereum}\")\n",
    "    print(\"-\" * 50)"
   ]
  },
  {
   "cell_type": "markdown",
   "metadata": {},
   "source": [
    "Les résultats révèlent que la somme $ c_{GS} + \\delta_{GS} $ est positive pour le Bitcoin et l'Ethereum pour toutes les entreprises, ce qui indique que ces actifs ne vérifient pas la condition (C1) et ne sont donc pas des valeurs refuges dans tous les cas. De plus, la différence entre les résultats obtenus pour l'or et ceux du Bitcoin ou de l'Ethereum est soit négative soit très proche de zéro, ce qui met en évidence le caractère de l'or comme une \"valeur refuge\" plus affirmée que celui du Bitcoin ou de l'Ethereum.\n",
    "\n",
    " Bien que nous n'ayons pas trouvé de conclusion définitive pour toutes les entreprises concernant le rôle de l'or comme valeur refuge, ces analyses montrent clairement que les cryptomonnaies ne peuvent pas être considérées comme des valeurs refuge sûres et que l'or se distingue comme étant un actif \"refuge\" *plus* fiable que les deux cryptomonnaies étudiées. \n",
    "\n",
    " Le président américain Donald Trump a promis dans sa campagne éléctorale de 2024 d’assouplir drastiquement la réglementation du secteur des cryptomonnaies, avec pour objectif de faire des Etats-Unis « la capitale mondiale du bitcoin et des cryptomonnaies ». Les cryptomonnaies ainsi favorisées pourraient ainsi peut-être gagner en stabilité dans ce contexte et être considérées comme des valeurs refuges dans le futur."
   ]
  }
 ],
 "metadata": {
  "kernelspec": {
   "display_name": "base",
   "language": "python",
   "name": "python3"
  },
  "language_info": {
   "codemirror_mode": {
    "name": "ipython",
    "version": 3
   },
   "file_extension": ".py",
   "mimetype": "text/x-python",
   "name": "python",
   "nbconvert_exporter": "python",
   "pygments_lexer": "ipython3",
   "version": "3.12.7"
  }
 },
 "nbformat": 4,
 "nbformat_minor": 2
}
